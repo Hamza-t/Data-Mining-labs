{
  "nbformat": 4,
  "nbformat_minor": 0,
  "metadata": {
    "colab": {
      "provenance": [],
      "authorship_tag": "ABX9TyNvwxKq4jc9uhiN4EF2LGYr",
      "include_colab_link": true
    },
    "kernelspec": {
      "name": "python3",
      "display_name": "Python 3"
    },
    "language_info": {
      "name": "python"
    }
  },
  "cells": [
    {
      "cell_type": "markdown",
      "metadata": {
        "id": "view-in-github",
        "colab_type": "text"
      },
      "source": [
        "<a href=\"https://colab.research.google.com/github/Hamza-t/Data-Mining-labs/blob/main/unsupervised_learning_lab.ipynb\" target=\"_parent\"><img src=\"https://colab.research.google.com/assets/colab-badge.svg\" alt=\"Open In Colab\"/></a>"
      ]
    },
    {
      "cell_type": "code",
      "execution_count": null,
      "metadata": {
        "id": "1ihETo19qqlW"
      },
      "outputs": [],
      "source": [
        "#import libreries\n",
        "import pandas as pd\n",
        "import numpy as np\n",
        "from sklearn import cluster\n",
        "from sklearn import metrics\n",
        "import matplotlib.pyplot as plt\n",
        "from scipy.cluster.hierarchy import dendrogram, linkage, fcluster\n",
        "from sklearn.decomposition import PCA\n",
        "from sklearn.cluster import AgglomerativeClustering"
      ]
    },
    {
      "cell_type": "code",
      "source": [
        "#import data\n",
        "fromage = pd.read_table(r\"fromage1.txt\",sep=\"\\t\",header=0,index_col=0)\n",
        "print(fromage.describe())"
      ],
      "metadata": {
        "colab": {
          "base_uri": "https://localhost:8080/"
        },
        "id": "SXRWqYrrzjbt",
        "outputId": "efb65f98-93f1-4ec2-ea40-594accfe090c"
      },
      "execution_count": null,
      "outputs": [
        {
          "output_type": "stream",
          "name": "stdout",
          "text": [
            "         calories      sodium     calcium  ...  proteines  cholesterol  magnesium\n",
            "count   29.000000   29.000000   29.000000  ...  29.000000    29.000000  29.000000\n",
            "mean   300.034483  210.086207  185.734483  ...  20.168966    74.586207  26.965517\n",
            "std     91.914356  108.678923   72.528882  ...   6.959788    28.245755  11.318388\n",
            "min     70.000000   22.000000   72.600000  ...   4.100000    10.000000  10.000000\n",
            "25%    292.000000  140.000000  132.900000  ...  17.800000    70.000000  20.000000\n",
            "50%    321.000000  223.000000  202.300000  ...  21.000000    80.000000  26.000000\n",
            "75%    355.000000  276.000000  220.500000  ...  23.400000    90.000000  30.000000\n",
            "max    406.000000  432.000000  334.600000  ...  35.700000   120.000000  51.000000\n",
            "\n",
            "[8 rows x 9 columns]\n"
          ]
        }
      ]
    },
    {
      "cell_type": "code",
      "source": [
        "fromage.head()"
      ],
      "metadata": {
        "colab": {
          "base_uri": "https://localhost:8080/",
          "height": 238
        },
        "id": "vrBzNZ35zjmx",
        "outputId": "494f30b1-5263-4174-8ab1-f706265b255d"
      },
      "execution_count": null,
      "outputs": [
        {
          "output_type": "execute_result",
          "data": {
            "text/html": [
              "\n",
              "  <div id=\"df-0c7c375e-f51f-43e2-9ca2-9255fadc5dba\">\n",
              "    <div class=\"colab-df-container\">\n",
              "      <div>\n",
              "<style scoped>\n",
              "    .dataframe tbody tr th:only-of-type {\n",
              "        vertical-align: middle;\n",
              "    }\n",
              "\n",
              "    .dataframe tbody tr th {\n",
              "        vertical-align: top;\n",
              "    }\n",
              "\n",
              "    .dataframe thead th {\n",
              "        text-align: right;\n",
              "    }\n",
              "</style>\n",
              "<table border=\"1\" class=\"dataframe\">\n",
              "  <thead>\n",
              "    <tr style=\"text-align: right;\">\n",
              "      <th></th>\n",
              "      <th>calories</th>\n",
              "      <th>sodium</th>\n",
              "      <th>calcium</th>\n",
              "      <th>lipides</th>\n",
              "      <th>retinol</th>\n",
              "      <th>folates</th>\n",
              "      <th>proteines</th>\n",
              "      <th>cholesterol</th>\n",
              "      <th>magnesium</th>\n",
              "    </tr>\n",
              "    <tr>\n",
              "      <th>Fromages</th>\n",
              "      <th></th>\n",
              "      <th></th>\n",
              "      <th></th>\n",
              "      <th></th>\n",
              "      <th></th>\n",
              "      <th></th>\n",
              "      <th></th>\n",
              "      <th></th>\n",
              "      <th></th>\n",
              "    </tr>\n",
              "  </thead>\n",
              "  <tbody>\n",
              "    <tr>\n",
              "      <th>CarredelEst</th>\n",
              "      <td>314</td>\n",
              "      <td>353.5</td>\n",
              "      <td>72.6</td>\n",
              "      <td>26.3</td>\n",
              "      <td>51.6</td>\n",
              "      <td>30.3</td>\n",
              "      <td>21.0</td>\n",
              "      <td>70</td>\n",
              "      <td>20</td>\n",
              "    </tr>\n",
              "    <tr>\n",
              "      <th>Babybel</th>\n",
              "      <td>314</td>\n",
              "      <td>238.0</td>\n",
              "      <td>209.8</td>\n",
              "      <td>25.1</td>\n",
              "      <td>63.7</td>\n",
              "      <td>6.4</td>\n",
              "      <td>22.6</td>\n",
              "      <td>70</td>\n",
              "      <td>27</td>\n",
              "    </tr>\n",
              "    <tr>\n",
              "      <th>Beaufort</th>\n",
              "      <td>401</td>\n",
              "      <td>112.0</td>\n",
              "      <td>259.4</td>\n",
              "      <td>33.3</td>\n",
              "      <td>54.9</td>\n",
              "      <td>1.2</td>\n",
              "      <td>26.6</td>\n",
              "      <td>120</td>\n",
              "      <td>41</td>\n",
              "    </tr>\n",
              "    <tr>\n",
              "      <th>Bleu</th>\n",
              "      <td>342</td>\n",
              "      <td>336.0</td>\n",
              "      <td>211.1</td>\n",
              "      <td>28.9</td>\n",
              "      <td>37.1</td>\n",
              "      <td>27.5</td>\n",
              "      <td>20.2</td>\n",
              "      <td>90</td>\n",
              "      <td>27</td>\n",
              "    </tr>\n",
              "    <tr>\n",
              "      <th>Camembert</th>\n",
              "      <td>264</td>\n",
              "      <td>314.0</td>\n",
              "      <td>215.9</td>\n",
              "      <td>19.5</td>\n",
              "      <td>103.0</td>\n",
              "      <td>36.4</td>\n",
              "      <td>23.4</td>\n",
              "      <td>60</td>\n",
              "      <td>20</td>\n",
              "    </tr>\n",
              "  </tbody>\n",
              "</table>\n",
              "</div>\n",
              "      <button class=\"colab-df-convert\" onclick=\"convertToInteractive('df-0c7c375e-f51f-43e2-9ca2-9255fadc5dba')\"\n",
              "              title=\"Convert this dataframe to an interactive table.\"\n",
              "              style=\"display:none;\">\n",
              "        \n",
              "  <svg xmlns=\"http://www.w3.org/2000/svg\" height=\"24px\"viewBox=\"0 0 24 24\"\n",
              "       width=\"24px\">\n",
              "    <path d=\"M0 0h24v24H0V0z\" fill=\"none\"/>\n",
              "    <path d=\"M18.56 5.44l.94 2.06.94-2.06 2.06-.94-2.06-.94-.94-2.06-.94 2.06-2.06.94zm-11 1L8.5 8.5l.94-2.06 2.06-.94-2.06-.94L8.5 2.5l-.94 2.06-2.06.94zm10 10l.94 2.06.94-2.06 2.06-.94-2.06-.94-.94-2.06-.94 2.06-2.06.94z\"/><path d=\"M17.41 7.96l-1.37-1.37c-.4-.4-.92-.59-1.43-.59-.52 0-1.04.2-1.43.59L10.3 9.45l-7.72 7.72c-.78.78-.78 2.05 0 2.83L4 21.41c.39.39.9.59 1.41.59.51 0 1.02-.2 1.41-.59l7.78-7.78 2.81-2.81c.8-.78.8-2.07 0-2.86zM5.41 20L4 18.59l7.72-7.72 1.47 1.35L5.41 20z\"/>\n",
              "  </svg>\n",
              "      </button>\n",
              "      \n",
              "  <style>\n",
              "    .colab-df-container {\n",
              "      display:flex;\n",
              "      flex-wrap:wrap;\n",
              "      gap: 12px;\n",
              "    }\n",
              "\n",
              "    .colab-df-convert {\n",
              "      background-color: #E8F0FE;\n",
              "      border: none;\n",
              "      border-radius: 50%;\n",
              "      cursor: pointer;\n",
              "      display: none;\n",
              "      fill: #1967D2;\n",
              "      height: 32px;\n",
              "      padding: 0 0 0 0;\n",
              "      width: 32px;\n",
              "    }\n",
              "\n",
              "    .colab-df-convert:hover {\n",
              "      background-color: #E2EBFA;\n",
              "      box-shadow: 0px 1px 2px rgba(60, 64, 67, 0.3), 0px 1px 3px 1px rgba(60, 64, 67, 0.15);\n",
              "      fill: #174EA6;\n",
              "    }\n",
              "\n",
              "    [theme=dark] .colab-df-convert {\n",
              "      background-color: #3B4455;\n",
              "      fill: #D2E3FC;\n",
              "    }\n",
              "\n",
              "    [theme=dark] .colab-df-convert:hover {\n",
              "      background-color: #434B5C;\n",
              "      box-shadow: 0px 1px 3px 1px rgba(0, 0, 0, 0.15);\n",
              "      filter: drop-shadow(0px 1px 2px rgba(0, 0, 0, 0.3));\n",
              "      fill: #FFFFFF;\n",
              "    }\n",
              "  </style>\n",
              "\n",
              "      <script>\n",
              "        const buttonEl =\n",
              "          document.querySelector('#df-0c7c375e-f51f-43e2-9ca2-9255fadc5dba button.colab-df-convert');\n",
              "        buttonEl.style.display =\n",
              "          google.colab.kernel.accessAllowed ? 'block' : 'none';\n",
              "\n",
              "        async function convertToInteractive(key) {\n",
              "          const element = document.querySelector('#df-0c7c375e-f51f-43e2-9ca2-9255fadc5dba');\n",
              "          const dataTable =\n",
              "            await google.colab.kernel.invokeFunction('convertToInteractive',\n",
              "                                                     [key], {});\n",
              "          if (!dataTable) return;\n",
              "\n",
              "          const docLinkHtml = 'Like what you see? Visit the ' +\n",
              "            '<a target=\"_blank\" href=https://colab.research.google.com/notebooks/data_table.ipynb>data table notebook</a>'\n",
              "            + ' to learn more about interactive tables.';\n",
              "          element.innerHTML = '';\n",
              "          dataTable['output_type'] = 'display_data';\n",
              "          await google.colab.output.renderOutput(dataTable, element);\n",
              "          const docLink = document.createElement('div');\n",
              "          docLink.innerHTML = docLinkHtml;\n",
              "          element.appendChild(docLink);\n",
              "        }\n",
              "      </script>\n",
              "    </div>\n",
              "  </div>\n",
              "  "
            ],
            "text/plain": [
              "             calories  sodium  calcium  ...  proteines  cholesterol  magnesium\n",
              "Fromages                                ...                                   \n",
              "CarredelEst       314   353.5     72.6  ...       21.0           70         20\n",
              "Babybel           314   238.0    209.8  ...       22.6           70         27\n",
              "Beaufort          401   112.0    259.4  ...       26.6          120         41\n",
              "Bleu              342   336.0    211.1  ...       20.2           90         27\n",
              "Camembert         264   314.0    215.9  ...       23.4           60         20\n",
              "\n",
              "[5 rows x 9 columns]"
            ]
          },
          "metadata": {},
          "execution_count": 13
        }
      ]
    },
    {
      "cell_type": "code",
      "source": [
        "fromage.columns"
      ],
      "metadata": {
        "colab": {
          "base_uri": "https://localhost:8080/"
        },
        "id": "f7xMdOo9zZkg",
        "outputId": "2276ff33-254f-46ab-ba2d-ebe63f5b3445"
      },
      "execution_count": null,
      "outputs": [
        {
          "output_type": "execute_result",
          "data": {
            "text/plain": [
              "Index(['calories', 'sodium', 'calcium', 'lipides', 'retinol', 'folates',\n",
              "       'proteines', 'cholesterol', 'magnesium'],\n",
              "      dtype='object')"
            ]
          },
          "metadata": {},
          "execution_count": 16
        }
      ]
    },
    {
      "cell_type": "code",
      "source": [
        "pd.plotting.scatter_matrix(fromage, figsize=(16,12));\n"
      ],
      "metadata": {
        "colab": {
          "base_uri": "https://localhost:8080/",
          "height": 720
        },
        "id": "MWY5xdRc48qU",
        "outputId": "ac193f39-d216-4e58-d822-1b88faf0a0ac"
      },
      "execution_count": null,
      "outputs": [
        {
          "output_type": "display_data",
          "data": {
            "image/png": "[encoded data removed]",
            "text/plain": [
              "<Figure size 1152x864 with 81 Axes>"
            ]
          },
          "metadata": {
            "needs_background": "light"
          }
        }
      ]
    },
    {
      "cell_type": "code",
      "source": [],
      "metadata": {
        "id": "L6wQW5Ek5aAu"
      },
      "execution_count": null,
      "outputs": []
    },
    {
      "cell_type": "markdown",
      "source": [
        "Il y a une corrélation entre plusieurs attributs.\n",
        "* une corrélation positive entre les calories et cholesterol.\n",
        "* une corrélation positive entre proteines et lipides.\n",
        "* une corrélation positive entre les lipides et le cholesterol.\n",
        "* une corrélation positive entre les proteines et le magnesium.\n",
        "* une corrélation positive entre le cholesterol et le magnesium."
      ],
      "metadata": {
        "id": "vEehrEkF523c"
      }
    },
    {
      "cell_type": "code",
      "source": [],
      "metadata": {
        "id": "KVL56YOJ6iZG"
      },
      "execution_count": null,
      "outputs": []
    },
    {
      "cell_type": "markdown",
      "source": [
        "##Méthodes des centres mobiles"
      ],
      "metadata": {
        "id": "FRcYP7TK6tVH"
      }
    },
    {
      "cell_type": "code",
      "source": [
        "np.random.seed(0)\n",
        "kmeans = cluster.KMeans(n_clusters = 4)\n",
        "kmeans.fit(fromage)"
      ],
      "metadata": {
        "colab": {
          "base_uri": "https://localhost:8080/"
        },
        "id": "KmycJHDx6wKY",
        "outputId": "fbef4da6-3c8c-4b7e-d3d9-178ee0704651"
      },
      "execution_count": null,
      "outputs": [
        {
          "output_type": "execute_result",
          "data": {
            "text/plain": [
              "KMeans(n_clusters=4)"
            ]
          },
          "metadata": {},
          "execution_count": 20
        }
      ]
    },
    {
      "cell_type": "code",
      "source": [
        "def highlight(s):\n",
        "    if s['Cluster #'] == 0:\n",
        "        return ['background-color: #a8dadc']*2\n",
        "    elif s['Cluster #'] == 1:\n",
        "        return ['background-color: #e63946']*2\n",
        "    elif s['Cluster #'] == 2:\n",
        "        return ['background-color: #023047']*2\n",
        "    elif s['Cluster #'] == 3:\n",
        "        return ['background-color: #edf6f9']*2\n",
        "    else:\n",
        "        return ['background-color: #ffddd2']*2"
      ],
      "metadata": {
        "id": "yTSrYuEN6wPy"
      },
      "execution_count": null,
      "outputs": []
    },
    {
      "cell_type": "code",
      "source": [
        "idk = np.argsort(kmeans.labels_)\n",
        "clusters = pd.DataFrame({\n",
        "    'Cluster #':kmeans.labels_[idk],\n",
        "    'Fromage':fromage.index[idk]\n",
        "})\n",
        "clusters.style.apply(highlight, axis=1)"
      ],
      "metadata": {
        "colab": {
          "base_uri": "https://localhost:8080/",
          "height": 959
        },
        "id": "QS6jWJMZ6wSa",
        "outputId": "0521a797-62be-4e83-dccc-5f5cb50e77d2"
      },
      "execution_count": null,
      "outputs": [
        {
          "output_type": "execute_result",
          "data": {
            "text/html": [
              "<style  type=\"text/css\" >\n",
              "#T_613e2f2e_658c_11ec_90dc_0242ac1c0002row0_col0,#T_613e2f2e_658c_11ec_90dc_0242ac1c0002row0_col1,#T_613e2f2e_658c_11ec_90dc_0242ac1c0002row1_col0,#T_613e2f2e_658c_11ec_90dc_0242ac1c0002row1_col1,#T_613e2f2e_658c_11ec_90dc_0242ac1c0002row2_col0,#T_613e2f2e_658c_11ec_90dc_0242ac1c0002row2_col1,#T_613e2f2e_658c_11ec_90dc_0242ac1c0002row3_col0,#T_613e2f2e_658c_11ec_90dc_0242ac1c0002row3_col1,#T_613e2f2e_658c_11ec_90dc_0242ac1c0002row4_col0,#T_613e2f2e_658c_11ec_90dc_0242ac1c0002row4_col1,#T_613e2f2e_658c_11ec_90dc_0242ac1c0002row5_col0,#T_613e2f2e_658c_11ec_90dc_0242ac1c0002row5_col1,#T_613e2f2e_658c_11ec_90dc_0242ac1c0002row6_col0,#T_613e2f2e_658c_11ec_90dc_0242ac1c0002row6_col1{\n",
              "            background-color:  #a8dadc;\n",
              "        }#T_613e2f2e_658c_11ec_90dc_0242ac1c0002row7_col0,#T_613e2f2e_658c_11ec_90dc_0242ac1c0002row7_col1,#T_613e2f2e_658c_11ec_90dc_0242ac1c0002row8_col0,#T_613e2f2e_658c_11ec_90dc_0242ac1c0002row8_col1,#T_613e2f2e_658c_11ec_90dc_0242ac1c0002row9_col0,#T_613e2f2e_658c_11ec_90dc_0242ac1c0002row9_col1,#T_613e2f2e_658c_11ec_90dc_0242ac1c0002row10_col0,#T_613e2f2e_658c_11ec_90dc_0242ac1c0002row10_col1,#T_613e2f2e_658c_11ec_90dc_0242ac1c0002row11_col0,#T_613e2f2e_658c_11ec_90dc_0242ac1c0002row11_col1,#T_613e2f2e_658c_11ec_90dc_0242ac1c0002row12_col0,#T_613e2f2e_658c_11ec_90dc_0242ac1c0002row12_col1,#T_613e2f2e_658c_11ec_90dc_0242ac1c0002row13_col0,#T_613e2f2e_658c_11ec_90dc_0242ac1c0002row13_col1,#T_613e2f2e_658c_11ec_90dc_0242ac1c0002row14_col0,#T_613e2f2e_658c_11ec_90dc_0242ac1c0002row14_col1{\n",
              "            background-color:  #e63946;\n",
              "        }#T_613e2f2e_658c_11ec_90dc_0242ac1c0002row15_col0,#T_613e2f2e_658c_11ec_90dc_0242ac1c0002row15_col1,#T_613e2f2e_658c_11ec_90dc_0242ac1c0002row16_col0,#T_613e2f2e_658c_11ec_90dc_0242ac1c0002row16_col1,#T_613e2f2e_658c_11ec_90dc_0242ac1c0002row17_col0,#T_613e2f2e_658c_11ec_90dc_0242ac1c0002row17_col1,#T_613e2f2e_658c_11ec_90dc_0242ac1c0002row18_col0,#T_613e2f2e_658c_11ec_90dc_0242ac1c0002row18_col1{\n",
              "            background-color:  #023047;\n",
              "        }#T_613e2f2e_658c_11ec_90dc_0242ac1c0002row19_col0,#T_613e2f2e_658c_11ec_90dc_0242ac1c0002row19_col1,#T_613e2f2e_658c_11ec_90dc_0242ac1c0002row20_col0,#T_613e2f2e_658c_11ec_90dc_0242ac1c0002row20_col1,#T_613e2f2e_658c_11ec_90dc_0242ac1c0002row21_col0,#T_613e2f2e_658c_11ec_90dc_0242ac1c0002row21_col1,#T_613e2f2e_658c_11ec_90dc_0242ac1c0002row22_col0,#T_613e2f2e_658c_11ec_90dc_0242ac1c0002row22_col1,#T_613e2f2e_658c_11ec_90dc_0242ac1c0002row23_col0,#T_613e2f2e_658c_11ec_90dc_0242ac1c0002row23_col1,#T_613e2f2e_658c_11ec_90dc_0242ac1c0002row24_col0,#T_613e2f2e_658c_11ec_90dc_0242ac1c0002row24_col1,#T_613e2f2e_658c_11ec_90dc_0242ac1c0002row25_col0,#T_613e2f2e_658c_11ec_90dc_0242ac1c0002row25_col1,#T_613e2f2e_658c_11ec_90dc_0242ac1c0002row26_col0,#T_613e2f2e_658c_11ec_90dc_0242ac1c0002row26_col1,#T_613e2f2e_658c_11ec_90dc_0242ac1c0002row27_col0,#T_613e2f2e_658c_11ec_90dc_0242ac1c0002row27_col1,#T_613e2f2e_658c_11ec_90dc_0242ac1c0002row28_col0,#T_613e2f2e_658c_11ec_90dc_0242ac1c0002row28_col1{\n",
              "            background-color:  #edf6f9;\n",
              "        }</style><table id=\"T_613e2f2e_658c_11ec_90dc_0242ac1c0002\" class=\"dataframe\"><thead>    <tr>        <th class=\"blank level0\" ></th>        <th class=\"col_heading level0 col0\" >Cluster #</th>        <th class=\"col_heading level0 col1\" >Fromage</th>    </tr></thead><tbody>\n",
              "                <tr>\n",
              "                        <th id=\"T_613e2f2e_658c_11ec_90dc_0242ac1c0002level0_row0\" class=\"row_heading level0 row0\" >0</th>\n",
              "                        <td id=\"T_613e2f2e_658c_11ec_90dc_0242ac1c0002row0_col0\" class=\"data row0 col0\" >0</td>\n",
              "                        <td id=\"T_613e2f2e_658c_11ec_90dc_0242ac1c0002row0_col1\" class=\"data row0 col1\" >CarredelEst</td>\n",
              "            </tr>\n",
              "            <tr>\n",
              "                        <th id=\"T_613e2f2e_658c_11ec_90dc_0242ac1c0002level0_row1\" class=\"row_heading level0 row1\" >1</th>\n",
              "                        <td id=\"T_613e2f2e_658c_11ec_90dc_0242ac1c0002row1_col0\" class=\"data row1 col0\" >0</td>\n",
              "                        <td id=\"T_613e2f2e_658c_11ec_90dc_0242ac1c0002row1_col1\" class=\"data row1 col1\" >Tome</td>\n",
              "            </tr>\n",
              "            <tr>\n",
              "                        <th id=\"T_613e2f2e_658c_11ec_90dc_0242ac1c0002level0_row2\" class=\"row_heading level0 row2\" >2</th>\n",
              "                        <td id=\"T_613e2f2e_658c_11ec_90dc_0242ac1c0002row2_col0\" class=\"data row2 col0\" >0</td>\n",
              "                        <td id=\"T_613e2f2e_658c_11ec_90dc_0242ac1c0002row2_col1\" class=\"data row2 col1\" >PontlEveque</td>\n",
              "            </tr>\n",
              "            <tr>\n",
              "                        <th id=\"T_613e2f2e_658c_11ec_90dc_0242ac1c0002level0_row3\" class=\"row_heading level0 row3\" >3</th>\n",
              "                        <td id=\"T_613e2f2e_658c_11ec_90dc_0242ac1c0002row3_col0\" class=\"data row3 col0\" >0</td>\n",
              "                        <td id=\"T_613e2f2e_658c_11ec_90dc_0242ac1c0002row3_col1\" class=\"data row3 col1\" >Chabichou</td>\n",
              "            </tr>\n",
              "            <tr>\n",
              "                        <th id=\"T_613e2f2e_658c_11ec_90dc_0242ac1c0002level0_row4\" class=\"row_heading level0 row4\" >4</th>\n",
              "                        <td id=\"T_613e2f2e_658c_11ec_90dc_0242ac1c0002row4_col0\" class=\"data row4 col0\" >0</td>\n",
              "                        <td id=\"T_613e2f2e_658c_11ec_90dc_0242ac1c0002row4_col1\" class=\"data row4 col1\" >Chaource</td>\n",
              "            </tr>\n",
              "            <tr>\n",
              "                        <th id=\"T_613e2f2e_658c_11ec_90dc_0242ac1c0002level0_row5\" class=\"row_heading level0 row5\" >5</th>\n",
              "                        <td id=\"T_613e2f2e_658c_11ec_90dc_0242ac1c0002row5_col0\" class=\"data row5 col0\" >0</td>\n",
              "                        <td id=\"T_613e2f2e_658c_11ec_90dc_0242ac1c0002row5_col1\" class=\"data row5 col1\" >Coulomniers</td>\n",
              "            </tr>\n",
              "            <tr>\n",
              "                        <th id=\"T_613e2f2e_658c_11ec_90dc_0242ac1c0002level0_row6\" class=\"row_heading level0 row6\" >6</th>\n",
              "                        <td id=\"T_613e2f2e_658c_11ec_90dc_0242ac1c0002row6_col0\" class=\"data row6 col0\" >0</td>\n",
              "                        <td id=\"T_613e2f2e_658c_11ec_90dc_0242ac1c0002row6_col1\" class=\"data row6 col1\" >Fr.chevrepatemolle</td>\n",
              "            </tr>\n",
              "            <tr>\n",
              "                        <th id=\"T_613e2f2e_658c_11ec_90dc_0242ac1c0002level0_row7\" class=\"row_heading level0 row7\" >7</th>\n",
              "                        <td id=\"T_613e2f2e_658c_11ec_90dc_0242ac1c0002row7_col0\" class=\"data row7 col0\" >1</td>\n",
              "                        <td id=\"T_613e2f2e_658c_11ec_90dc_0242ac1c0002row7_col1\" class=\"data row7 col1\" >Beaufort</td>\n",
              "            </tr>\n",
              "            <tr>\n",
              "                        <th id=\"T_613e2f2e_658c_11ec_90dc_0242ac1c0002level0_row8\" class=\"row_heading level0 row8\" >8</th>\n",
              "                        <td id=\"T_613e2f2e_658c_11ec_90dc_0242ac1c0002row8_col0\" class=\"data row8 col0\" >1</td>\n",
              "                        <td id=\"T_613e2f2e_658c_11ec_90dc_0242ac1c0002row8_col1\" class=\"data row8 col1\" >SaintPaulin</td>\n",
              "            </tr>\n",
              "            <tr>\n",
              "                        <th id=\"T_613e2f2e_658c_11ec_90dc_0242ac1c0002level0_row9\" class=\"row_heading level0 row9\" >9</th>\n",
              "                        <td id=\"T_613e2f2e_658c_11ec_90dc_0242ac1c0002row9_col0\" class=\"data row9 col0\" >1</td>\n",
              "                        <td id=\"T_613e2f2e_658c_11ec_90dc_0242ac1c0002row9_col1\" class=\"data row9 col1\" >Cheddar</td>\n",
              "            </tr>\n",
              "            <tr>\n",
              "                        <th id=\"T_613e2f2e_658c_11ec_90dc_0242ac1c0002level0_row10\" class=\"row_heading level0 row10\" >10</th>\n",
              "                        <td id=\"T_613e2f2e_658c_11ec_90dc_0242ac1c0002row10_col0\" class=\"data row10 col0\" >1</td>\n",
              "                        <td id=\"T_613e2f2e_658c_11ec_90dc_0242ac1c0002row10_col1\" class=\"data row10 col1\" >Comte</td>\n",
              "            </tr>\n",
              "            <tr>\n",
              "                        <th id=\"T_613e2f2e_658c_11ec_90dc_0242ac1c0002level0_row11\" class=\"row_heading level0 row11\" >11</th>\n",
              "                        <td id=\"T_613e2f2e_658c_11ec_90dc_0242ac1c0002row11_col0\" class=\"data row11 col0\" >1</td>\n",
              "                        <td id=\"T_613e2f2e_658c_11ec_90dc_0242ac1c0002row11_col1\" class=\"data row11 col1\" >Edam</td>\n",
              "            </tr>\n",
              "            <tr>\n",
              "                        <th id=\"T_613e2f2e_658c_11ec_90dc_0242ac1c0002level0_row12\" class=\"row_heading level0 row12\" >12</th>\n",
              "                        <td id=\"T_613e2f2e_658c_11ec_90dc_0242ac1c0002row12_col0\" class=\"data row12 col0\" >1</td>\n",
              "                        <td id=\"T_613e2f2e_658c_11ec_90dc_0242ac1c0002row12_col1\" class=\"data row12 col1\" >Emmental</td>\n",
              "            </tr>\n",
              "            <tr>\n",
              "                        <th id=\"T_613e2f2e_658c_11ec_90dc_0242ac1c0002level0_row13\" class=\"row_heading level0 row13\" >13</th>\n",
              "                        <td id=\"T_613e2f2e_658c_11ec_90dc_0242ac1c0002row13_col0\" class=\"data row13 col0\" >1</td>\n",
              "                        <td id=\"T_613e2f2e_658c_11ec_90dc_0242ac1c0002row13_col1\" class=\"data row13 col1\" >Vacherin</td>\n",
              "            </tr>\n",
              "            <tr>\n",
              "                        <th id=\"T_613e2f2e_658c_11ec_90dc_0242ac1c0002level0_row14\" class=\"row_heading level0 row14\" >14</th>\n",
              "                        <td id=\"T_613e2f2e_658c_11ec_90dc_0242ac1c0002row14_col0\" class=\"data row14 col0\" >1</td>\n",
              "                        <td id=\"T_613e2f2e_658c_11ec_90dc_0242ac1c0002row14_col1\" class=\"data row14 col1\" >Parmesan</td>\n",
              "            </tr>\n",
              "            <tr>\n",
              "                        <th id=\"T_613e2f2e_658c_11ec_90dc_0242ac1c0002level0_row15\" class=\"row_heading level0 row15\" >15</th>\n",
              "                        <td id=\"T_613e2f2e_658c_11ec_90dc_0242ac1c0002row15_col0\" class=\"data row15 col0\" >2</td>\n",
              "                        <td id=\"T_613e2f2e_658c_11ec_90dc_0242ac1c0002row15_col1\" class=\"data row15 col1\" >Petitsuisse40</td>\n",
              "            </tr>\n",
              "            <tr>\n",
              "                        <th id=\"T_613e2f2e_658c_11ec_90dc_0242ac1c0002level0_row16\" class=\"row_heading level0 row16\" >16</th>\n",
              "                        <td id=\"T_613e2f2e_658c_11ec_90dc_0242ac1c0002row16_col0\" class=\"data row16 col0\" >2</td>\n",
              "                        <td id=\"T_613e2f2e_658c_11ec_90dc_0242ac1c0002row16_col1\" class=\"data row16 col1\" >Yaourtlaitent.nat.</td>\n",
              "            </tr>\n",
              "            <tr>\n",
              "                        <th id=\"T_613e2f2e_658c_11ec_90dc_0242ac1c0002level0_row17\" class=\"row_heading level0 row17\" >17</th>\n",
              "                        <td id=\"T_613e2f2e_658c_11ec_90dc_0242ac1c0002row17_col0\" class=\"data row17 col0\" >2</td>\n",
              "                        <td id=\"T_613e2f2e_658c_11ec_90dc_0242ac1c0002row17_col1\" class=\"data row17 col1\" >Fr.frais20nat.</td>\n",
              "            </tr>\n",
              "            <tr>\n",
              "                        <th id=\"T_613e2f2e_658c_11ec_90dc_0242ac1c0002level0_row18\" class=\"row_heading level0 row18\" >18</th>\n",
              "                        <td id=\"T_613e2f2e_658c_11ec_90dc_0242ac1c0002row18_col0\" class=\"data row18 col0\" >2</td>\n",
              "                        <td id=\"T_613e2f2e_658c_11ec_90dc_0242ac1c0002row18_col1\" class=\"data row18 col1\" >Fr.frais40nat.</td>\n",
              "            </tr>\n",
              "            <tr>\n",
              "                        <th id=\"T_613e2f2e_658c_11ec_90dc_0242ac1c0002level0_row19\" class=\"row_heading level0 row19\" >19</th>\n",
              "                        <td id=\"T_613e2f2e_658c_11ec_90dc_0242ac1c0002row19_col0\" class=\"data row19 col0\" >3</td>\n",
              "                        <td id=\"T_613e2f2e_658c_11ec_90dc_0242ac1c0002row19_col1\" class=\"data row19 col1\" >Maroilles</td>\n",
              "            </tr>\n",
              "            <tr>\n",
              "                        <th id=\"T_613e2f2e_658c_11ec_90dc_0242ac1c0002level0_row20\" class=\"row_heading level0 row20\" >20</th>\n",
              "                        <td id=\"T_613e2f2e_658c_11ec_90dc_0242ac1c0002row20_col0\" class=\"data row20 col0\" >3</td>\n",
              "                        <td id=\"T_613e2f2e_658c_11ec_90dc_0242ac1c0002row20_col1\" class=\"data row20 col1\" >Morbier</td>\n",
              "            </tr>\n",
              "            <tr>\n",
              "                        <th id=\"T_613e2f2e_658c_11ec_90dc_0242ac1c0002level0_row21\" class=\"row_heading level0 row21\" >21</th>\n",
              "                        <td id=\"T_613e2f2e_658c_11ec_90dc_0242ac1c0002row21_col0\" class=\"data row21 col0\" >3</td>\n",
              "                        <td id=\"T_613e2f2e_658c_11ec_90dc_0242ac1c0002row21_col1\" class=\"data row21 col1\" >Cantal</td>\n",
              "            </tr>\n",
              "            <tr>\n",
              "                        <th id=\"T_613e2f2e_658c_11ec_90dc_0242ac1c0002level0_row22\" class=\"row_heading level0 row22\" >22</th>\n",
              "                        <td id=\"T_613e2f2e_658c_11ec_90dc_0242ac1c0002row22_col0\" class=\"data row22 col0\" >3</td>\n",
              "                        <td id=\"T_613e2f2e_658c_11ec_90dc_0242ac1c0002row22_col1\" class=\"data row22 col1\" >Camembert</td>\n",
              "            </tr>\n",
              "            <tr>\n",
              "                        <th id=\"T_613e2f2e_658c_11ec_90dc_0242ac1c0002level0_row23\" class=\"row_heading level0 row23\" >23</th>\n",
              "                        <td id=\"T_613e2f2e_658c_11ec_90dc_0242ac1c0002row23_col0\" class=\"data row23 col0\" >3</td>\n",
              "                        <td id=\"T_613e2f2e_658c_11ec_90dc_0242ac1c0002row23_col1\" class=\"data row23 col1\" >Pyrenees</td>\n",
              "            </tr>\n",
              "            <tr>\n",
              "                        <th id=\"T_613e2f2e_658c_11ec_90dc_0242ac1c0002level0_row24\" class=\"row_heading level0 row24\" >24</th>\n",
              "                        <td id=\"T_613e2f2e_658c_11ec_90dc_0242ac1c0002row24_col0\" class=\"data row24 col0\" >3</td>\n",
              "                        <td id=\"T_613e2f2e_658c_11ec_90dc_0242ac1c0002row24_col1\" class=\"data row24 col1\" >Reblochon</td>\n",
              "            </tr>\n",
              "            <tr>\n",
              "                        <th id=\"T_613e2f2e_658c_11ec_90dc_0242ac1c0002level0_row25\" class=\"row_heading level0 row25\" >25</th>\n",
              "                        <td id=\"T_613e2f2e_658c_11ec_90dc_0242ac1c0002row25_col0\" class=\"data row25 col0\" >3</td>\n",
              "                        <td id=\"T_613e2f2e_658c_11ec_90dc_0242ac1c0002row25_col1\" class=\"data row25 col1\" >Rocquefort</td>\n",
              "            </tr>\n",
              "            <tr>\n",
              "                        <th id=\"T_613e2f2e_658c_11ec_90dc_0242ac1c0002level0_row26\" class=\"row_heading level0 row26\" >26</th>\n",
              "                        <td id=\"T_613e2f2e_658c_11ec_90dc_0242ac1c0002row26_col0\" class=\"data row26 col0\" >3</td>\n",
              "                        <td id=\"T_613e2f2e_658c_11ec_90dc_0242ac1c0002row26_col1\" class=\"data row26 col1\" >Bleu</td>\n",
              "            </tr>\n",
              "            <tr>\n",
              "                        <th id=\"T_613e2f2e_658c_11ec_90dc_0242ac1c0002level0_row27\" class=\"row_heading level0 row27\" >27</th>\n",
              "                        <td id=\"T_613e2f2e_658c_11ec_90dc_0242ac1c0002row27_col0\" class=\"data row27 col0\" >3</td>\n",
              "                        <td id=\"T_613e2f2e_658c_11ec_90dc_0242ac1c0002row27_col1\" class=\"data row27 col1\" >Babybel</td>\n",
              "            </tr>\n",
              "            <tr>\n",
              "                        <th id=\"T_613e2f2e_658c_11ec_90dc_0242ac1c0002level0_row28\" class=\"row_heading level0 row28\" >28</th>\n",
              "                        <td id=\"T_613e2f2e_658c_11ec_90dc_0242ac1c0002row28_col0\" class=\"data row28 col0\" >3</td>\n",
              "                        <td id=\"T_613e2f2e_658c_11ec_90dc_0242ac1c0002row28_col1\" class=\"data row28 col1\" >Fr.fondu.45</td>\n",
              "            </tr>\n",
              "    </tbody></table>"
            ],
            "text/plain": [
              "<pandas.io.formats.style.Styler at 0x7f6f46494990>"
            ]
          },
          "metadata": {},
          "execution_count": 23
        }
      ]
    },
    {
      "cell_type": "code",
      "source": [],
      "metadata": {
        "id": "l_36U_W46wU3"
      },
      "execution_count": null,
      "outputs": []
    },
    {
      "cell_type": "code",
      "source": [],
      "metadata": {
        "id": "vCtHKcE_6wYa"
      },
      "execution_count": null,
      "outputs": []
    },
    {
      "cell_type": "markdown",
      "source": [
        "###Les attributs des centres de chaque cluster"
      ],
      "metadata": {
        "id": "gChCKvXf7gn3"
      }
    },
    {
      "cell_type": "code",
      "source": [
        "print(kmeans.cluster_centers_)"
      ],
      "metadata": {
        "colab": {
          "base_uri": "https://localhost:8080/"
        },
        "id": "YGSmKgkH7iZl",
        "outputId": "4e92de45-0002-4f23-b6b4-ec24857a3a18"
      },
      "execution_count": null,
      "outputs": [
        {
          "output_type": "stream",
          "name": "stdout",
          "text": [
            "[[297.85714286 239.78571429 103.84285714  24.91428571  83.92857143\n",
            "   23.05714286  18.97142857  71.42857143  21.71428571]\n",
            " [363.875      146.125      257.025       29.05        63.6\n",
            "    3.8625      26.5625      96.25        38.875     ]\n",
            " [101.75        44.75       133.75         6.275       55.15\n",
            "   16.475        7.2         18.25        11.25      ]\n",
            " [329.8        306.6        206.82        26.87        64.24\n",
            "   11.91        21.08        82.          27.4       ]]\n"
          ]
        }
      ]
    },
    {
      "cell_type": "code",
      "source": [
        "res = np.arange(9,dtype =\"double\")\n",
        "for k in np.arange(9):\n",
        "    km = cluster.KMeans(n_clusters =k+2)\n",
        "    km.fit(fromage)\n",
        "    res[k] = metrics.silhouette_score(fromage,km.labels_)"
      ],
      "metadata": {
        "id": "uqrhi4Vn7lBV"
      },
      "execution_count": null,
      "outputs": []
    },
    {
      "cell_type": "code",
      "source": [
        "plt.title(\"Metric Silhouette\")\n",
        "plt.xlabel(\"# of clusters\")\n",
        "plt.plot(np.arange(2,11,1),(res))\n",
        "plt.show()"
      ],
      "metadata": {
        "colab": {
          "base_uri": "https://localhost:8080/",
          "height": 295
        },
        "id": "D-LpyqF27noh",
        "outputId": "3e918fe7-cf18-43b3-8711-c82771f50e28"
      },
      "execution_count": null,
      "outputs": [
        {
          "output_type": "display_data",
          "data": {
            "image/png": "[encoded data removed]",
            "text/plain": [
              "<Figure size 432x288 with 1 Axes>"
            ]
          },
          "metadata": {
            "needs_background": "light"
          }
        }
      ]
    },
    {
      "cell_type": "code",
      "source": [
        "#La meilleure valeur de k est celle qui maximise le coefficient de Silhouette. Dans notre cas, k=2."
      ],
      "metadata": {
        "id": "s5sgtbgI7ptC"
      },
      "execution_count": null,
      "outputs": []
    },
    {
      "cell_type": "code",
      "source": [],
      "metadata": {
        "id": "rOty3V2J7zJd"
      },
      "execution_count": null,
      "outputs": []
    },
    {
      "cell_type": "markdown",
      "source": [
        "##Classification ascendante hiérarchique"
      ],
      "metadata": {
        "id": "8dgvo89R8G1F"
      }
    },
    {
      "cell_type": "markdown",
      "source": [
        "###SciPy"
      ],
      "metadata": {
        "id": "SoVa6LWU8Se7"
      }
    },
    {
      "cell_type": "code",
      "source": [
        "Z = linkage(fromage,method='ward', metric='euclidean')\n",
        "#cah et affichage du dendrogramme\n",
        "plt.title('CAH avec matérialisation des 4 classes')\n",
        "dendrogram(Z,labels=fromage.index,orientation='left',color_threshold=255)\n",
        "plt.show()\n",
        "groupes_cah = fcluster(Z, t = 255,criterion='distance')"
      ],
      "metadata": {
        "colab": {
          "base_uri": "https://localhost:8080/",
          "height": 281
        },
        "id": "mhw1dY4I8KqN",
        "outputId": "f22e414b-9cea-4e62-ca49-d3f5da17a61e"
      },
      "execution_count": null,
      "outputs": [
        {
          "output_type": "display_data",
          "data": {
            "image/png": "[encoded data removed]",
            "text/plain": [
              "<Figure size 432x288 with 1 Axes>"
            ]
          },
          "metadata": {
            "needs_background": "light"
          }
        }
      ]
    },
    {
      "cell_type": "code",
      "source": [
        "idg = np.argsort(groupes_cah)\n",
        "clusters = pd.DataFrame({\n",
        "    'Cluster #':groupes_cah[idg],\n",
        "    'Fromage':fromage.index[idg]\n",
        "})\n",
        "clusters.style.apply(highlight, axis=1)"
      ],
      "metadata": {
        "colab": {
          "base_uri": "https://localhost:8080/",
          "height": 959
        },
        "id": "vO5_arJt8mhV",
        "outputId": "5c89e8e8-e8c5-4d2b-862b-0d0976c0a797"
      },
      "execution_count": null,
      "outputs": [
        {
          "output_type": "execute_result",
          "data": {
            "text/html": [
              "<style  type=\"text/css\" >\n",
              "#T_46f275c0_658d_11ec_90dc_0242ac1c0002row0_col0,#T_46f275c0_658d_11ec_90dc_0242ac1c0002row0_col1,#T_46f275c0_658d_11ec_90dc_0242ac1c0002row1_col0,#T_46f275c0_658d_11ec_90dc_0242ac1c0002row1_col1,#T_46f275c0_658d_11ec_90dc_0242ac1c0002row2_col0,#T_46f275c0_658d_11ec_90dc_0242ac1c0002row2_col1,#T_46f275c0_658d_11ec_90dc_0242ac1c0002row3_col0,#T_46f275c0_658d_11ec_90dc_0242ac1c0002row3_col1{\n",
              "            background-color:  #e63946;\n",
              "        }#T_46f275c0_658d_11ec_90dc_0242ac1c0002row4_col0,#T_46f275c0_658d_11ec_90dc_0242ac1c0002row4_col1,#T_46f275c0_658d_11ec_90dc_0242ac1c0002row5_col0,#T_46f275c0_658d_11ec_90dc_0242ac1c0002row5_col1,#T_46f275c0_658d_11ec_90dc_0242ac1c0002row6_col0,#T_46f275c0_658d_11ec_90dc_0242ac1c0002row6_col1,#T_46f275c0_658d_11ec_90dc_0242ac1c0002row7_col0,#T_46f275c0_658d_11ec_90dc_0242ac1c0002row7_col1,#T_46f275c0_658d_11ec_90dc_0242ac1c0002row8_col0,#T_46f275c0_658d_11ec_90dc_0242ac1c0002row8_col1,#T_46f275c0_658d_11ec_90dc_0242ac1c0002row9_col0,#T_46f275c0_658d_11ec_90dc_0242ac1c0002row9_col1,#T_46f275c0_658d_11ec_90dc_0242ac1c0002row10_col0,#T_46f275c0_658d_11ec_90dc_0242ac1c0002row10_col1,#T_46f275c0_658d_11ec_90dc_0242ac1c0002row11_col0,#T_46f275c0_658d_11ec_90dc_0242ac1c0002row11_col1,#T_46f275c0_658d_11ec_90dc_0242ac1c0002row12_col0,#T_46f275c0_658d_11ec_90dc_0242ac1c0002row12_col1{\n",
              "            background-color:  #023047;\n",
              "        }#T_46f275c0_658d_11ec_90dc_0242ac1c0002row13_col0,#T_46f275c0_658d_11ec_90dc_0242ac1c0002row13_col1,#T_46f275c0_658d_11ec_90dc_0242ac1c0002row14_col0,#T_46f275c0_658d_11ec_90dc_0242ac1c0002row14_col1,#T_46f275c0_658d_11ec_90dc_0242ac1c0002row15_col0,#T_46f275c0_658d_11ec_90dc_0242ac1c0002row15_col1,#T_46f275c0_658d_11ec_90dc_0242ac1c0002row16_col0,#T_46f275c0_658d_11ec_90dc_0242ac1c0002row16_col1,#T_46f275c0_658d_11ec_90dc_0242ac1c0002row17_col0,#T_46f275c0_658d_11ec_90dc_0242ac1c0002row17_col1,#T_46f275c0_658d_11ec_90dc_0242ac1c0002row18_col0,#T_46f275c0_658d_11ec_90dc_0242ac1c0002row18_col1,#T_46f275c0_658d_11ec_90dc_0242ac1c0002row19_col0,#T_46f275c0_658d_11ec_90dc_0242ac1c0002row19_col1{\n",
              "            background-color:  #edf6f9;\n",
              "        }#T_46f275c0_658d_11ec_90dc_0242ac1c0002row20_col0,#T_46f275c0_658d_11ec_90dc_0242ac1c0002row20_col1,#T_46f275c0_658d_11ec_90dc_0242ac1c0002row21_col0,#T_46f275c0_658d_11ec_90dc_0242ac1c0002row21_col1,#T_46f275c0_658d_11ec_90dc_0242ac1c0002row22_col0,#T_46f275c0_658d_11ec_90dc_0242ac1c0002row22_col1,#T_46f275c0_658d_11ec_90dc_0242ac1c0002row23_col0,#T_46f275c0_658d_11ec_90dc_0242ac1c0002row23_col1,#T_46f275c0_658d_11ec_90dc_0242ac1c0002row24_col0,#T_46f275c0_658d_11ec_90dc_0242ac1c0002row24_col1,#T_46f275c0_658d_11ec_90dc_0242ac1c0002row25_col0,#T_46f275c0_658d_11ec_90dc_0242ac1c0002row25_col1,#T_46f275c0_658d_11ec_90dc_0242ac1c0002row26_col0,#T_46f275c0_658d_11ec_90dc_0242ac1c0002row26_col1,#T_46f275c0_658d_11ec_90dc_0242ac1c0002row27_col0,#T_46f275c0_658d_11ec_90dc_0242ac1c0002row27_col1,#T_46f275c0_658d_11ec_90dc_0242ac1c0002row28_col0,#T_46f275c0_658d_11ec_90dc_0242ac1c0002row28_col1{\n",
              "            background-color:  #ffddd2;\n",
              "        }</style><table id=\"T_46f275c0_658d_11ec_90dc_0242ac1c0002\" class=\"dataframe\"><thead>    <tr>        <th class=\"blank level0\" ></th>        <th class=\"col_heading level0 col0\" >Cluster #</th>        <th class=\"col_heading level0 col1\" >Fromage</th>    </tr></thead><tbody>\n",
              "                <tr>\n",
              "                        <th id=\"T_46f275c0_658d_11ec_90dc_0242ac1c0002level0_row0\" class=\"row_heading level0 row0\" >0</th>\n",
              "                        <td id=\"T_46f275c0_658d_11ec_90dc_0242ac1c0002row0_col0\" class=\"data row0 col0\" >1</td>\n",
              "                        <td id=\"T_46f275c0_658d_11ec_90dc_0242ac1c0002row0_col1\" class=\"data row0 col1\" >Yaourtlaitent.nat.</td>\n",
              "            </tr>\n",
              "            <tr>\n",
              "                        <th id=\"T_46f275c0_658d_11ec_90dc_0242ac1c0002level0_row1\" class=\"row_heading level0 row1\" >1</th>\n",
              "                        <td id=\"T_46f275c0_658d_11ec_90dc_0242ac1c0002row1_col0\" class=\"data row1 col0\" >1</td>\n",
              "                        <td id=\"T_46f275c0_658d_11ec_90dc_0242ac1c0002row1_col1\" class=\"data row1 col1\" >Petitsuisse40</td>\n",
              "            </tr>\n",
              "            <tr>\n",
              "                        <th id=\"T_46f275c0_658d_11ec_90dc_0242ac1c0002level0_row2\" class=\"row_heading level0 row2\" >2</th>\n",
              "                        <td id=\"T_46f275c0_658d_11ec_90dc_0242ac1c0002row2_col0\" class=\"data row2 col0\" >1</td>\n",
              "                        <td id=\"T_46f275c0_658d_11ec_90dc_0242ac1c0002row2_col1\" class=\"data row2 col1\" >Fr.frais40nat.</td>\n",
              "            </tr>\n",
              "            <tr>\n",
              "                        <th id=\"T_46f275c0_658d_11ec_90dc_0242ac1c0002level0_row3\" class=\"row_heading level0 row3\" >3</th>\n",
              "                        <td id=\"T_46f275c0_658d_11ec_90dc_0242ac1c0002row3_col0\" class=\"data row3 col0\" >1</td>\n",
              "                        <td id=\"T_46f275c0_658d_11ec_90dc_0242ac1c0002row3_col1\" class=\"data row3 col1\" >Fr.frais20nat.</td>\n",
              "            </tr>\n",
              "            <tr>\n",
              "                        <th id=\"T_46f275c0_658d_11ec_90dc_0242ac1c0002level0_row4\" class=\"row_heading level0 row4\" >4</th>\n",
              "                        <td id=\"T_46f275c0_658d_11ec_90dc_0242ac1c0002row4_col0\" class=\"data row4 col0\" >2</td>\n",
              "                        <td id=\"T_46f275c0_658d_11ec_90dc_0242ac1c0002row4_col1\" class=\"data row4 col1\" >SaintPaulin</td>\n",
              "            </tr>\n",
              "            <tr>\n",
              "                        <th id=\"T_46f275c0_658d_11ec_90dc_0242ac1c0002level0_row5\" class=\"row_heading level0 row5\" >5</th>\n",
              "                        <td id=\"T_46f275c0_658d_11ec_90dc_0242ac1c0002row5_col0\" class=\"data row5 col0\" >2</td>\n",
              "                        <td id=\"T_46f275c0_658d_11ec_90dc_0242ac1c0002row5_col1\" class=\"data row5 col1\" >Beaufort</td>\n",
              "            </tr>\n",
              "            <tr>\n",
              "                        <th id=\"T_46f275c0_658d_11ec_90dc_0242ac1c0002level0_row6\" class=\"row_heading level0 row6\" >6</th>\n",
              "                        <td id=\"T_46f275c0_658d_11ec_90dc_0242ac1c0002row6_col0\" class=\"data row6 col0\" >2</td>\n",
              "                        <td id=\"T_46f275c0_658d_11ec_90dc_0242ac1c0002row6_col1\" class=\"data row6 col1\" >Cantal</td>\n",
              "            </tr>\n",
              "            <tr>\n",
              "                        <th id=\"T_46f275c0_658d_11ec_90dc_0242ac1c0002level0_row7\" class=\"row_heading level0 row7\" >7</th>\n",
              "                        <td id=\"T_46f275c0_658d_11ec_90dc_0242ac1c0002row7_col0\" class=\"data row7 col0\" >2</td>\n",
              "                        <td id=\"T_46f275c0_658d_11ec_90dc_0242ac1c0002row7_col1\" class=\"data row7 col1\" >Parmesan</td>\n",
              "            </tr>\n",
              "            <tr>\n",
              "                        <th id=\"T_46f275c0_658d_11ec_90dc_0242ac1c0002level0_row8\" class=\"row_heading level0 row8\" >8</th>\n",
              "                        <td id=\"T_46f275c0_658d_11ec_90dc_0242ac1c0002row8_col0\" class=\"data row8 col0\" >2</td>\n",
              "                        <td id=\"T_46f275c0_658d_11ec_90dc_0242ac1c0002row8_col1\" class=\"data row8 col1\" >Cheddar</td>\n",
              "            </tr>\n",
              "            <tr>\n",
              "                        <th id=\"T_46f275c0_658d_11ec_90dc_0242ac1c0002level0_row9\" class=\"row_heading level0 row9\" >9</th>\n",
              "                        <td id=\"T_46f275c0_658d_11ec_90dc_0242ac1c0002row9_col0\" class=\"data row9 col0\" >2</td>\n",
              "                        <td id=\"T_46f275c0_658d_11ec_90dc_0242ac1c0002row9_col1\" class=\"data row9 col1\" >Comte</td>\n",
              "            </tr>\n",
              "            <tr>\n",
              "                        <th id=\"T_46f275c0_658d_11ec_90dc_0242ac1c0002level0_row10\" class=\"row_heading level0 row10\" >10</th>\n",
              "                        <td id=\"T_46f275c0_658d_11ec_90dc_0242ac1c0002row10_col0\" class=\"data row10 col0\" >2</td>\n",
              "                        <td id=\"T_46f275c0_658d_11ec_90dc_0242ac1c0002row10_col1\" class=\"data row10 col1\" >Edam</td>\n",
              "            </tr>\n",
              "            <tr>\n",
              "                        <th id=\"T_46f275c0_658d_11ec_90dc_0242ac1c0002level0_row11\" class=\"row_heading level0 row11\" >11</th>\n",
              "                        <td id=\"T_46f275c0_658d_11ec_90dc_0242ac1c0002row11_col0\" class=\"data row11 col0\" >2</td>\n",
              "                        <td id=\"T_46f275c0_658d_11ec_90dc_0242ac1c0002row11_col1\" class=\"data row11 col1\" >Emmental</td>\n",
              "            </tr>\n",
              "            <tr>\n",
              "                        <th id=\"T_46f275c0_658d_11ec_90dc_0242ac1c0002level0_row12\" class=\"row_heading level0 row12\" >12</th>\n",
              "                        <td id=\"T_46f275c0_658d_11ec_90dc_0242ac1c0002row12_col0\" class=\"data row12 col0\" >2</td>\n",
              "                        <td id=\"T_46f275c0_658d_11ec_90dc_0242ac1c0002row12_col1\" class=\"data row12 col1\" >Vacherin</td>\n",
              "            </tr>\n",
              "            <tr>\n",
              "                        <th id=\"T_46f275c0_658d_11ec_90dc_0242ac1c0002level0_row13\" class=\"row_heading level0 row13\" >13</th>\n",
              "                        <td id=\"T_46f275c0_658d_11ec_90dc_0242ac1c0002row13_col0\" class=\"data row13 col0\" >3</td>\n",
              "                        <td id=\"T_46f275c0_658d_11ec_90dc_0242ac1c0002row13_col1\" class=\"data row13 col1\" >Rocquefort</td>\n",
              "            </tr>\n",
              "            <tr>\n",
              "                        <th id=\"T_46f275c0_658d_11ec_90dc_0242ac1c0002level0_row14\" class=\"row_heading level0 row14\" >14</th>\n",
              "                        <td id=\"T_46f275c0_658d_11ec_90dc_0242ac1c0002row14_col0\" class=\"data row14 col0\" >3</td>\n",
              "                        <td id=\"T_46f275c0_658d_11ec_90dc_0242ac1c0002row14_col1\" class=\"data row14 col1\" >Morbier</td>\n",
              "            </tr>\n",
              "            <tr>\n",
              "                        <th id=\"T_46f275c0_658d_11ec_90dc_0242ac1c0002level0_row15\" class=\"row_heading level0 row15\" >15</th>\n",
              "                        <td id=\"T_46f275c0_658d_11ec_90dc_0242ac1c0002row15_col0\" class=\"data row15 col0\" >3</td>\n",
              "                        <td id=\"T_46f275c0_658d_11ec_90dc_0242ac1c0002row15_col1\" class=\"data row15 col1\" >Maroilles</td>\n",
              "            </tr>\n",
              "            <tr>\n",
              "                        <th id=\"T_46f275c0_658d_11ec_90dc_0242ac1c0002level0_row16\" class=\"row_heading level0 row16\" >16</th>\n",
              "                        <td id=\"T_46f275c0_658d_11ec_90dc_0242ac1c0002row16_col0\" class=\"data row16 col0\" >3</td>\n",
              "                        <td id=\"T_46f275c0_658d_11ec_90dc_0242ac1c0002row16_col1\" class=\"data row16 col1\" >CarredelEst</td>\n",
              "            </tr>\n",
              "            <tr>\n",
              "                        <th id=\"T_46f275c0_658d_11ec_90dc_0242ac1c0002level0_row17\" class=\"row_heading level0 row17\" >17</th>\n",
              "                        <td id=\"T_46f275c0_658d_11ec_90dc_0242ac1c0002row17_col0\" class=\"data row17 col0\" >3</td>\n",
              "                        <td id=\"T_46f275c0_658d_11ec_90dc_0242ac1c0002row17_col1\" class=\"data row17 col1\" >Camembert</td>\n",
              "            </tr>\n",
              "            <tr>\n",
              "                        <th id=\"T_46f275c0_658d_11ec_90dc_0242ac1c0002level0_row18\" class=\"row_heading level0 row18\" >18</th>\n",
              "                        <td id=\"T_46f275c0_658d_11ec_90dc_0242ac1c0002row18_col0\" class=\"data row18 col0\" >3</td>\n",
              "                        <td id=\"T_46f275c0_658d_11ec_90dc_0242ac1c0002row18_col1\" class=\"data row18 col1\" >Bleu</td>\n",
              "            </tr>\n",
              "            <tr>\n",
              "                        <th id=\"T_46f275c0_658d_11ec_90dc_0242ac1c0002level0_row19\" class=\"row_heading level0 row19\" >19</th>\n",
              "                        <td id=\"T_46f275c0_658d_11ec_90dc_0242ac1c0002row19_col0\" class=\"data row19 col0\" >3</td>\n",
              "                        <td id=\"T_46f275c0_658d_11ec_90dc_0242ac1c0002row19_col1\" class=\"data row19 col1\" >Fr.fondu.45</td>\n",
              "            </tr>\n",
              "            <tr>\n",
              "                        <th id=\"T_46f275c0_658d_11ec_90dc_0242ac1c0002level0_row20\" class=\"row_heading level0 row20\" >20</th>\n",
              "                        <td id=\"T_46f275c0_658d_11ec_90dc_0242ac1c0002row20_col0\" class=\"data row20 col0\" >4</td>\n",
              "                        <td id=\"T_46f275c0_658d_11ec_90dc_0242ac1c0002row20_col1\" class=\"data row20 col1\" >Coulomniers</td>\n",
              "            </tr>\n",
              "            <tr>\n",
              "                        <th id=\"T_46f275c0_658d_11ec_90dc_0242ac1c0002level0_row21\" class=\"row_heading level0 row21\" >21</th>\n",
              "                        <td id=\"T_46f275c0_658d_11ec_90dc_0242ac1c0002row21_col0\" class=\"data row21 col0\" >4</td>\n",
              "                        <td id=\"T_46f275c0_658d_11ec_90dc_0242ac1c0002row21_col1\" class=\"data row21 col1\" >Chaource</td>\n",
              "            </tr>\n",
              "            <tr>\n",
              "                        <th id=\"T_46f275c0_658d_11ec_90dc_0242ac1c0002level0_row22\" class=\"row_heading level0 row22\" >22</th>\n",
              "                        <td id=\"T_46f275c0_658d_11ec_90dc_0242ac1c0002row22_col0\" class=\"data row22 col0\" >4</td>\n",
              "                        <td id=\"T_46f275c0_658d_11ec_90dc_0242ac1c0002row22_col1\" class=\"data row22 col1\" >Chabichou</td>\n",
              "            </tr>\n",
              "            <tr>\n",
              "                        <th id=\"T_46f275c0_658d_11ec_90dc_0242ac1c0002level0_row23\" class=\"row_heading level0 row23\" >23</th>\n",
              "                        <td id=\"T_46f275c0_658d_11ec_90dc_0242ac1c0002row23_col0\" class=\"data row23 col0\" >4</td>\n",
              "                        <td id=\"T_46f275c0_658d_11ec_90dc_0242ac1c0002row23_col1\" class=\"data row23 col1\" >PontlEveque</td>\n",
              "            </tr>\n",
              "            <tr>\n",
              "                        <th id=\"T_46f275c0_658d_11ec_90dc_0242ac1c0002level0_row24\" class=\"row_heading level0 row24\" >24</th>\n",
              "                        <td id=\"T_46f275c0_658d_11ec_90dc_0242ac1c0002row24_col0\" class=\"data row24 col0\" >4</td>\n",
              "                        <td id=\"T_46f275c0_658d_11ec_90dc_0242ac1c0002row24_col1\" class=\"data row24 col1\" >Pyrenees</td>\n",
              "            </tr>\n",
              "            <tr>\n",
              "                        <th id=\"T_46f275c0_658d_11ec_90dc_0242ac1c0002level0_row25\" class=\"row_heading level0 row25\" >25</th>\n",
              "                        <td id=\"T_46f275c0_658d_11ec_90dc_0242ac1c0002row25_col0\" class=\"data row25 col0\" >4</td>\n",
              "                        <td id=\"T_46f275c0_658d_11ec_90dc_0242ac1c0002row25_col1\" class=\"data row25 col1\" >Reblochon</td>\n",
              "            </tr>\n",
              "            <tr>\n",
              "                        <th id=\"T_46f275c0_658d_11ec_90dc_0242ac1c0002level0_row26\" class=\"row_heading level0 row26\" >26</th>\n",
              "                        <td id=\"T_46f275c0_658d_11ec_90dc_0242ac1c0002row26_col0\" class=\"data row26 col0\" >4</td>\n",
              "                        <td id=\"T_46f275c0_658d_11ec_90dc_0242ac1c0002row26_col1\" class=\"data row26 col1\" >Babybel</td>\n",
              "            </tr>\n",
              "            <tr>\n",
              "                        <th id=\"T_46f275c0_658d_11ec_90dc_0242ac1c0002level0_row27\" class=\"row_heading level0 row27\" >27</th>\n",
              "                        <td id=\"T_46f275c0_658d_11ec_90dc_0242ac1c0002row27_col0\" class=\"data row27 col0\" >4</td>\n",
              "                        <td id=\"T_46f275c0_658d_11ec_90dc_0242ac1c0002row27_col1\" class=\"data row27 col1\" >Tome</td>\n",
              "            </tr>\n",
              "            <tr>\n",
              "                        <th id=\"T_46f275c0_658d_11ec_90dc_0242ac1c0002level0_row28\" class=\"row_heading level0 row28\" >28</th>\n",
              "                        <td id=\"T_46f275c0_658d_11ec_90dc_0242ac1c0002row28_col0\" class=\"data row28 col0\" >4</td>\n",
              "                        <td id=\"T_46f275c0_658d_11ec_90dc_0242ac1c0002row28_col1\" class=\"data row28 col1\" >Fr.chevrepatemolle</td>\n",
              "            </tr>\n",
              "    </tbody></table>"
            ],
            "text/plain": [
              "<pandas.io.formats.style.Styler at 0x7f6f461f7c90>"
            ]
          },
          "metadata": {},
          "execution_count": 29
        }
      ]
    },
    {
      "cell_type": "code",
      "source": [
        "pd.crosstab(groupes_cah,kmeans.labels_)"
      ],
      "metadata": {
        "colab": {
          "base_uri": "https://localhost:8080/",
          "height": 206
        },
        "id": "R9je2Myd810k",
        "outputId": "69e96538-ed17-404c-a7a1-100f1da108c5"
      },
      "execution_count": null,
      "outputs": [
        {
          "output_type": "execute_result",
          "data": {
            "text/html": [
              "\n",
              "  <div id=\"df-c309d646-d2e6-493f-9077-a8593f8eff4a\">\n",
              "    <div class=\"colab-df-container\">\n",
              "      <div>\n",
              "<style scoped>\n",
              "    .dataframe tbody tr th:only-of-type {\n",
              "        vertical-align: middle;\n",
              "    }\n",
              "\n",
              "    .dataframe tbody tr th {\n",
              "        vertical-align: top;\n",
              "    }\n",
              "\n",
              "    .dataframe thead th {\n",
              "        text-align: right;\n",
              "    }\n",
              "</style>\n",
              "<table border=\"1\" class=\"dataframe\">\n",
              "  <thead>\n",
              "    <tr style=\"text-align: right;\">\n",
              "      <th>col_0</th>\n",
              "      <th>0</th>\n",
              "      <th>1</th>\n",
              "      <th>2</th>\n",
              "      <th>3</th>\n",
              "    </tr>\n",
              "    <tr>\n",
              "      <th>row_0</th>\n",
              "      <th></th>\n",
              "      <th></th>\n",
              "      <th></th>\n",
              "      <th></th>\n",
              "    </tr>\n",
              "  </thead>\n",
              "  <tbody>\n",
              "    <tr>\n",
              "      <th>1</th>\n",
              "      <td>0</td>\n",
              "      <td>0</td>\n",
              "      <td>4</td>\n",
              "      <td>0</td>\n",
              "    </tr>\n",
              "    <tr>\n",
              "      <th>2</th>\n",
              "      <td>0</td>\n",
              "      <td>8</td>\n",
              "      <td>0</td>\n",
              "      <td>1</td>\n",
              "    </tr>\n",
              "    <tr>\n",
              "      <th>3</th>\n",
              "      <td>1</td>\n",
              "      <td>0</td>\n",
              "      <td>0</td>\n",
              "      <td>6</td>\n",
              "    </tr>\n",
              "    <tr>\n",
              "      <th>4</th>\n",
              "      <td>6</td>\n",
              "      <td>0</td>\n",
              "      <td>0</td>\n",
              "      <td>3</td>\n",
              "    </tr>\n",
              "  </tbody>\n",
              "</table>\n",
              "</div>\n",
              "      <button class=\"colab-df-convert\" onclick=\"convertToInteractive('df-c309d646-d2e6-493f-9077-a8593f8eff4a')\"\n",
              "              title=\"Convert this dataframe to an interactive table.\"\n",
              "              style=\"display:none;\">\n",
              "        \n",
              "  <svg xmlns=\"http://www.w3.org/2000/svg\" height=\"24px\"viewBox=\"0 0 24 24\"\n",
              "       width=\"24px\">\n",
              "    <path d=\"M0 0h24v24H0V0z\" fill=\"none\"/>\n",
              "    <path d=\"M18.56 5.44l.94 2.06.94-2.06 2.06-.94-2.06-.94-.94-2.06-.94 2.06-2.06.94zm-11 1L8.5 8.5l.94-2.06 2.06-.94-2.06-.94L8.5 2.5l-.94 2.06-2.06.94zm10 10l.94 2.06.94-2.06 2.06-.94-2.06-.94-.94-2.06-.94 2.06-2.06.94z\"/><path d=\"M17.41 7.96l-1.37-1.37c-.4-.4-.92-.59-1.43-.59-.52 0-1.04.2-1.43.59L10.3 9.45l-7.72 7.72c-.78.78-.78 2.05 0 2.83L4 21.41c.39.39.9.59 1.41.59.51 0 1.02-.2 1.41-.59l7.78-7.78 2.81-2.81c.8-.78.8-2.07 0-2.86zM5.41 20L4 18.59l7.72-7.72 1.47 1.35L5.41 20z\"/>\n",
              "  </svg>\n",
              "      </button>\n",
              "      \n",
              "  <style>\n",
              "    .colab-df-container {\n",
              "      display:flex;\n",
              "      flex-wrap:wrap;\n",
              "      gap: 12px;\n",
              "    }\n",
              "\n",
              "    .colab-df-convert {\n",
              "      background-color: #E8F0FE;\n",
              "      border: none;\n",
              "      border-radius: 50%;\n",
              "      cursor: pointer;\n",
              "      display: none;\n",
              "      fill: #1967D2;\n",
              "      height: 32px;\n",
              "      padding: 0 0 0 0;\n",
              "      width: 32px;\n",
              "    }\n",
              "\n",
              "    .colab-df-convert:hover {\n",
              "      background-color: #E2EBFA;\n",
              "      box-shadow: 0px 1px 2px rgba(60, 64, 67, 0.3), 0px 1px 3px 1px rgba(60, 64, 67, 0.15);\n",
              "      fill: #174EA6;\n",
              "    }\n",
              "\n",
              "    [theme=dark] .colab-df-convert {\n",
              "      background-color: #3B4455;\n",
              "      fill: #D2E3FC;\n",
              "    }\n",
              "\n",
              "    [theme=dark] .colab-df-convert:hover {\n",
              "      background-color: #434B5C;\n",
              "      box-shadow: 0px 1px 3px 1px rgba(0, 0, 0, 0.15);\n",
              "      filter: drop-shadow(0px 1px 2px rgba(0, 0, 0, 0.3));\n",
              "      fill: #FFFFFF;\n",
              "    }\n",
              "  </style>\n",
              "\n",
              "      <script>\n",
              "        const buttonEl =\n",
              "          document.querySelector('#df-c309d646-d2e6-493f-9077-a8593f8eff4a button.colab-df-convert');\n",
              "        buttonEl.style.display =\n",
              "          google.colab.kernel.accessAllowed ? 'block' : 'none';\n",
              "\n",
              "        async function convertToInteractive(key) {\n",
              "          const element = document.querySelector('#df-c309d646-d2e6-493f-9077-a8593f8eff4a');\n",
              "          const dataTable =\n",
              "            await google.colab.kernel.invokeFunction('convertToInteractive',\n",
              "                                                     [key], {});\n",
              "          if (!dataTable) return;\n",
              "\n",
              "          const docLinkHtml = 'Like what you see? Visit the ' +\n",
              "            '<a target=\"_blank\" href=https://colab.research.google.com/notebooks/data_table.ipynb>data table notebook</a>'\n",
              "            + ' to learn more about interactive tables.';\n",
              "          element.innerHTML = '';\n",
              "          dataTable['output_type'] = 'display_data';\n",
              "          await google.colab.output.renderOutput(dataTable, element);\n",
              "          const docLink = document.createElement('div');\n",
              "          docLink.innerHTML = docLinkHtml;\n",
              "          element.appendChild(docLink);\n",
              "        }\n",
              "      </script>\n",
              "    </div>\n",
              "  </div>\n",
              "  "
            ],
            "text/plain": [
              "col_0  0  1  2  3\n",
              "row_0            \n",
              "1      0  0  4  0\n",
              "2      0  8  0  1\n",
              "3      1  0  0  6\n",
              "4      6  0  0  3"
            ]
          },
          "metadata": {},
          "execution_count": 30
        }
      ]
    },
    {
      "cell_type": "code",
      "source": [],
      "metadata": {
        "id": "dOPm00wh85RZ"
      },
      "execution_count": null,
      "outputs": []
    },
    {
      "cell_type": "markdown",
      "source": [
        "###Scikit-learn"
      ],
      "metadata": {
        "id": "JCmL4KDJ8_-0"
      }
    },
    {
      "cell_type": "code",
      "source": [
        "aggClustering = AgglomerativeClustering(4);\n",
        "aggClustering.fit(fromage);\n"
      ],
      "metadata": {
        "id": "PhDD8SSt9A7d"
      },
      "execution_count": null,
      "outputs": []
    },
    {
      "cell_type": "code",
      "source": [
        "ida = np.argsort(aggClustering.labels_)\n",
        "aggClusters = pd.DataFrame({\n",
        "    'Cluster #':aggClustering.labels_[idk],\n",
        "    'Fromage':fromage.index[idk]\n",
        "})\n",
        "aggClusters.style.apply(highlight, axis=1)"
      ],
      "metadata": {
        "colab": {
          "base_uri": "https://localhost:8080/",
          "height": 959
        },
        "id": "zwolK7Pd9FVd",
        "outputId": "6fc4757f-b77f-4fe0-8505-9918d7c6d78f"
      },
      "execution_count": null,
      "outputs": [
        {
          "output_type": "execute_result",
          "data": {
            "text/html": [
              "<style  type=\"text/css\" >\n",
              "#T_6d542416_658d_11ec_90dc_0242ac1c0002row0_col0,#T_6d542416_658d_11ec_90dc_0242ac1c0002row0_col1,#T_6d542416_658d_11ec_90dc_0242ac1c0002row19_col0,#T_6d542416_658d_11ec_90dc_0242ac1c0002row19_col1,#T_6d542416_658d_11ec_90dc_0242ac1c0002row20_col0,#T_6d542416_658d_11ec_90dc_0242ac1c0002row20_col1,#T_6d542416_658d_11ec_90dc_0242ac1c0002row22_col0,#T_6d542416_658d_11ec_90dc_0242ac1c0002row22_col1,#T_6d542416_658d_11ec_90dc_0242ac1c0002row25_col0,#T_6d542416_658d_11ec_90dc_0242ac1c0002row25_col1,#T_6d542416_658d_11ec_90dc_0242ac1c0002row26_col0,#T_6d542416_658d_11ec_90dc_0242ac1c0002row26_col1,#T_6d542416_658d_11ec_90dc_0242ac1c0002row28_col0,#T_6d542416_658d_11ec_90dc_0242ac1c0002row28_col1{\n",
              "            background-color:  #e63946;\n",
              "        }#T_6d542416_658d_11ec_90dc_0242ac1c0002row1_col0,#T_6d542416_658d_11ec_90dc_0242ac1c0002row1_col1,#T_6d542416_658d_11ec_90dc_0242ac1c0002row2_col0,#T_6d542416_658d_11ec_90dc_0242ac1c0002row2_col1,#T_6d542416_658d_11ec_90dc_0242ac1c0002row3_col0,#T_6d542416_658d_11ec_90dc_0242ac1c0002row3_col1,#T_6d542416_658d_11ec_90dc_0242ac1c0002row4_col0,#T_6d542416_658d_11ec_90dc_0242ac1c0002row4_col1,#T_6d542416_658d_11ec_90dc_0242ac1c0002row5_col0,#T_6d542416_658d_11ec_90dc_0242ac1c0002row5_col1,#T_6d542416_658d_11ec_90dc_0242ac1c0002row6_col0,#T_6d542416_658d_11ec_90dc_0242ac1c0002row6_col1,#T_6d542416_658d_11ec_90dc_0242ac1c0002row23_col0,#T_6d542416_658d_11ec_90dc_0242ac1c0002row23_col1,#T_6d542416_658d_11ec_90dc_0242ac1c0002row24_col0,#T_6d542416_658d_11ec_90dc_0242ac1c0002row24_col1,#T_6d542416_658d_11ec_90dc_0242ac1c0002row27_col0,#T_6d542416_658d_11ec_90dc_0242ac1c0002row27_col1{\n",
              "            background-color:  #023047;\n",
              "        }#T_6d542416_658d_11ec_90dc_0242ac1c0002row7_col0,#T_6d542416_658d_11ec_90dc_0242ac1c0002row7_col1,#T_6d542416_658d_11ec_90dc_0242ac1c0002row8_col0,#T_6d542416_658d_11ec_90dc_0242ac1c0002row8_col1,#T_6d542416_658d_11ec_90dc_0242ac1c0002row9_col0,#T_6d542416_658d_11ec_90dc_0242ac1c0002row9_col1,#T_6d542416_658d_11ec_90dc_0242ac1c0002row10_col0,#T_6d542416_658d_11ec_90dc_0242ac1c0002row10_col1,#T_6d542416_658d_11ec_90dc_0242ac1c0002row11_col0,#T_6d542416_658d_11ec_90dc_0242ac1c0002row11_col1,#T_6d542416_658d_11ec_90dc_0242ac1c0002row12_col0,#T_6d542416_658d_11ec_90dc_0242ac1c0002row12_col1,#T_6d542416_658d_11ec_90dc_0242ac1c0002row13_col0,#T_6d542416_658d_11ec_90dc_0242ac1c0002row13_col1,#T_6d542416_658d_11ec_90dc_0242ac1c0002row14_col0,#T_6d542416_658d_11ec_90dc_0242ac1c0002row14_col1,#T_6d542416_658d_11ec_90dc_0242ac1c0002row21_col0,#T_6d542416_658d_11ec_90dc_0242ac1c0002row21_col1{\n",
              "            background-color:  #a8dadc;\n",
              "        }#T_6d542416_658d_11ec_90dc_0242ac1c0002row15_col0,#T_6d542416_658d_11ec_90dc_0242ac1c0002row15_col1,#T_6d542416_658d_11ec_90dc_0242ac1c0002row16_col0,#T_6d542416_658d_11ec_90dc_0242ac1c0002row16_col1,#T_6d542416_658d_11ec_90dc_0242ac1c0002row17_col0,#T_6d542416_658d_11ec_90dc_0242ac1c0002row17_col1,#T_6d542416_658d_11ec_90dc_0242ac1c0002row18_col0,#T_6d542416_658d_11ec_90dc_0242ac1c0002row18_col1{\n",
              "            background-color:  #edf6f9;\n",
              "        }</style><table id=\"T_6d542416_658d_11ec_90dc_0242ac1c0002\" class=\"dataframe\"><thead>    <tr>        <th class=\"blank level0\" ></th>        <th class=\"col_heading level0 col0\" >Cluster #</th>        <th class=\"col_heading level0 col1\" >Fromage</th>    </tr></thead><tbody>\n",
              "                <tr>\n",
              "                        <th id=\"T_6d542416_658d_11ec_90dc_0242ac1c0002level0_row0\" class=\"row_heading level0 row0\" >0</th>\n",
              "                        <td id=\"T_6d542416_658d_11ec_90dc_0242ac1c0002row0_col0\" class=\"data row0 col0\" >1</td>\n",
              "                        <td id=\"T_6d542416_658d_11ec_90dc_0242ac1c0002row0_col1\" class=\"data row0 col1\" >CarredelEst</td>\n",
              "            </tr>\n",
              "            <tr>\n",
              "                        <th id=\"T_6d542416_658d_11ec_90dc_0242ac1c0002level0_row1\" class=\"row_heading level0 row1\" >1</th>\n",
              "                        <td id=\"T_6d542416_658d_11ec_90dc_0242ac1c0002row1_col0\" class=\"data row1 col0\" >2</td>\n",
              "                        <td id=\"T_6d542416_658d_11ec_90dc_0242ac1c0002row1_col1\" class=\"data row1 col1\" >Tome</td>\n",
              "            </tr>\n",
              "            <tr>\n",
              "                        <th id=\"T_6d542416_658d_11ec_90dc_0242ac1c0002level0_row2\" class=\"row_heading level0 row2\" >2</th>\n",
              "                        <td id=\"T_6d542416_658d_11ec_90dc_0242ac1c0002row2_col0\" class=\"data row2 col0\" >2</td>\n",
              "                        <td id=\"T_6d542416_658d_11ec_90dc_0242ac1c0002row2_col1\" class=\"data row2 col1\" >PontlEveque</td>\n",
              "            </tr>\n",
              "            <tr>\n",
              "                        <th id=\"T_6d542416_658d_11ec_90dc_0242ac1c0002level0_row3\" class=\"row_heading level0 row3\" >3</th>\n",
              "                        <td id=\"T_6d542416_658d_11ec_90dc_0242ac1c0002row3_col0\" class=\"data row3 col0\" >2</td>\n",
              "                        <td id=\"T_6d542416_658d_11ec_90dc_0242ac1c0002row3_col1\" class=\"data row3 col1\" >Chabichou</td>\n",
              "            </tr>\n",
              "            <tr>\n",
              "                        <th id=\"T_6d542416_658d_11ec_90dc_0242ac1c0002level0_row4\" class=\"row_heading level0 row4\" >4</th>\n",
              "                        <td id=\"T_6d542416_658d_11ec_90dc_0242ac1c0002row4_col0\" class=\"data row4 col0\" >2</td>\n",
              "                        <td id=\"T_6d542416_658d_11ec_90dc_0242ac1c0002row4_col1\" class=\"data row4 col1\" >Chaource</td>\n",
              "            </tr>\n",
              "            <tr>\n",
              "                        <th id=\"T_6d542416_658d_11ec_90dc_0242ac1c0002level0_row5\" class=\"row_heading level0 row5\" >5</th>\n",
              "                        <td id=\"T_6d542416_658d_11ec_90dc_0242ac1c0002row5_col0\" class=\"data row5 col0\" >2</td>\n",
              "                        <td id=\"T_6d542416_658d_11ec_90dc_0242ac1c0002row5_col1\" class=\"data row5 col1\" >Coulomniers</td>\n",
              "            </tr>\n",
              "            <tr>\n",
              "                        <th id=\"T_6d542416_658d_11ec_90dc_0242ac1c0002level0_row6\" class=\"row_heading level0 row6\" >6</th>\n",
              "                        <td id=\"T_6d542416_658d_11ec_90dc_0242ac1c0002row6_col0\" class=\"data row6 col0\" >2</td>\n",
              "                        <td id=\"T_6d542416_658d_11ec_90dc_0242ac1c0002row6_col1\" class=\"data row6 col1\" >Fr.chevrepatemolle</td>\n",
              "            </tr>\n",
              "            <tr>\n",
              "                        <th id=\"T_6d542416_658d_11ec_90dc_0242ac1c0002level0_row7\" class=\"row_heading level0 row7\" >7</th>\n",
              "                        <td id=\"T_6d542416_658d_11ec_90dc_0242ac1c0002row7_col0\" class=\"data row7 col0\" >0</td>\n",
              "                        <td id=\"T_6d542416_658d_11ec_90dc_0242ac1c0002row7_col1\" class=\"data row7 col1\" >Beaufort</td>\n",
              "            </tr>\n",
              "            <tr>\n",
              "                        <th id=\"T_6d542416_658d_11ec_90dc_0242ac1c0002level0_row8\" class=\"row_heading level0 row8\" >8</th>\n",
              "                        <td id=\"T_6d542416_658d_11ec_90dc_0242ac1c0002row8_col0\" class=\"data row8 col0\" >0</td>\n",
              "                        <td id=\"T_6d542416_658d_11ec_90dc_0242ac1c0002row8_col1\" class=\"data row8 col1\" >SaintPaulin</td>\n",
              "            </tr>\n",
              "            <tr>\n",
              "                        <th id=\"T_6d542416_658d_11ec_90dc_0242ac1c0002level0_row9\" class=\"row_heading level0 row9\" >9</th>\n",
              "                        <td id=\"T_6d542416_658d_11ec_90dc_0242ac1c0002row9_col0\" class=\"data row9 col0\" >0</td>\n",
              "                        <td id=\"T_6d542416_658d_11ec_90dc_0242ac1c0002row9_col1\" class=\"data row9 col1\" >Cheddar</td>\n",
              "            </tr>\n",
              "            <tr>\n",
              "                        <th id=\"T_6d542416_658d_11ec_90dc_0242ac1c0002level0_row10\" class=\"row_heading level0 row10\" >10</th>\n",
              "                        <td id=\"T_6d542416_658d_11ec_90dc_0242ac1c0002row10_col0\" class=\"data row10 col0\" >0</td>\n",
              "                        <td id=\"T_6d542416_658d_11ec_90dc_0242ac1c0002row10_col1\" class=\"data row10 col1\" >Comte</td>\n",
              "            </tr>\n",
              "            <tr>\n",
              "                        <th id=\"T_6d542416_658d_11ec_90dc_0242ac1c0002level0_row11\" class=\"row_heading level0 row11\" >11</th>\n",
              "                        <td id=\"T_6d542416_658d_11ec_90dc_0242ac1c0002row11_col0\" class=\"data row11 col0\" >0</td>\n",
              "                        <td id=\"T_6d542416_658d_11ec_90dc_0242ac1c0002row11_col1\" class=\"data row11 col1\" >Edam</td>\n",
              "            </tr>\n",
              "            <tr>\n",
              "                        <th id=\"T_6d542416_658d_11ec_90dc_0242ac1c0002level0_row12\" class=\"row_heading level0 row12\" >12</th>\n",
              "                        <td id=\"T_6d542416_658d_11ec_90dc_0242ac1c0002row12_col0\" class=\"data row12 col0\" >0</td>\n",
              "                        <td id=\"T_6d542416_658d_11ec_90dc_0242ac1c0002row12_col1\" class=\"data row12 col1\" >Emmental</td>\n",
              "            </tr>\n",
              "            <tr>\n",
              "                        <th id=\"T_6d542416_658d_11ec_90dc_0242ac1c0002level0_row13\" class=\"row_heading level0 row13\" >13</th>\n",
              "                        <td id=\"T_6d542416_658d_11ec_90dc_0242ac1c0002row13_col0\" class=\"data row13 col0\" >0</td>\n",
              "                        <td id=\"T_6d542416_658d_11ec_90dc_0242ac1c0002row13_col1\" class=\"data row13 col1\" >Vacherin</td>\n",
              "            </tr>\n",
              "            <tr>\n",
              "                        <th id=\"T_6d542416_658d_11ec_90dc_0242ac1c0002level0_row14\" class=\"row_heading level0 row14\" >14</th>\n",
              "                        <td id=\"T_6d542416_658d_11ec_90dc_0242ac1c0002row14_col0\" class=\"data row14 col0\" >0</td>\n",
              "                        <td id=\"T_6d542416_658d_11ec_90dc_0242ac1c0002row14_col1\" class=\"data row14 col1\" >Parmesan</td>\n",
              "            </tr>\n",
              "            <tr>\n",
              "                        <th id=\"T_6d542416_658d_11ec_90dc_0242ac1c0002level0_row15\" class=\"row_heading level0 row15\" >15</th>\n",
              "                        <td id=\"T_6d542416_658d_11ec_90dc_0242ac1c0002row15_col0\" class=\"data row15 col0\" >3</td>\n",
              "                        <td id=\"T_6d542416_658d_11ec_90dc_0242ac1c0002row15_col1\" class=\"data row15 col1\" >Petitsuisse40</td>\n",
              "            </tr>\n",
              "            <tr>\n",
              "                        <th id=\"T_6d542416_658d_11ec_90dc_0242ac1c0002level0_row16\" class=\"row_heading level0 row16\" >16</th>\n",
              "                        <td id=\"T_6d542416_658d_11ec_90dc_0242ac1c0002row16_col0\" class=\"data row16 col0\" >3</td>\n",
              "                        <td id=\"T_6d542416_658d_11ec_90dc_0242ac1c0002row16_col1\" class=\"data row16 col1\" >Yaourtlaitent.nat.</td>\n",
              "            </tr>\n",
              "            <tr>\n",
              "                        <th id=\"T_6d542416_658d_11ec_90dc_0242ac1c0002level0_row17\" class=\"row_heading level0 row17\" >17</th>\n",
              "                        <td id=\"T_6d542416_658d_11ec_90dc_0242ac1c0002row17_col0\" class=\"data row17 col0\" >3</td>\n",
              "                        <td id=\"T_6d542416_658d_11ec_90dc_0242ac1c0002row17_col1\" class=\"data row17 col1\" >Fr.frais20nat.</td>\n",
              "            </tr>\n",
              "            <tr>\n",
              "                        <th id=\"T_6d542416_658d_11ec_90dc_0242ac1c0002level0_row18\" class=\"row_heading level0 row18\" >18</th>\n",
              "                        <td id=\"T_6d542416_658d_11ec_90dc_0242ac1c0002row18_col0\" class=\"data row18 col0\" >3</td>\n",
              "                        <td id=\"T_6d542416_658d_11ec_90dc_0242ac1c0002row18_col1\" class=\"data row18 col1\" >Fr.frais40nat.</td>\n",
              "            </tr>\n",
              "            <tr>\n",
              "                        <th id=\"T_6d542416_658d_11ec_90dc_0242ac1c0002level0_row19\" class=\"row_heading level0 row19\" >19</th>\n",
              "                        <td id=\"T_6d542416_658d_11ec_90dc_0242ac1c0002row19_col0\" class=\"data row19 col0\" >1</td>\n",
              "                        <td id=\"T_6d542416_658d_11ec_90dc_0242ac1c0002row19_col1\" class=\"data row19 col1\" >Maroilles</td>\n",
              "            </tr>\n",
              "            <tr>\n",
              "                        <th id=\"T_6d542416_658d_11ec_90dc_0242ac1c0002level0_row20\" class=\"row_heading level0 row20\" >20</th>\n",
              "                        <td id=\"T_6d542416_658d_11ec_90dc_0242ac1c0002row20_col0\" class=\"data row20 col0\" >1</td>\n",
              "                        <td id=\"T_6d542416_658d_11ec_90dc_0242ac1c0002row20_col1\" class=\"data row20 col1\" >Morbier</td>\n",
              "            </tr>\n",
              "            <tr>\n",
              "                        <th id=\"T_6d542416_658d_11ec_90dc_0242ac1c0002level0_row21\" class=\"row_heading level0 row21\" >21</th>\n",
              "                        <td id=\"T_6d542416_658d_11ec_90dc_0242ac1c0002row21_col0\" class=\"data row21 col0\" >0</td>\n",
              "                        <td id=\"T_6d542416_658d_11ec_90dc_0242ac1c0002row21_col1\" class=\"data row21 col1\" >Cantal</td>\n",
              "            </tr>\n",
              "            <tr>\n",
              "                        <th id=\"T_6d542416_658d_11ec_90dc_0242ac1c0002level0_row22\" class=\"row_heading level0 row22\" >22</th>\n",
              "                        <td id=\"T_6d542416_658d_11ec_90dc_0242ac1c0002row22_col0\" class=\"data row22 col0\" >1</td>\n",
              "                        <td id=\"T_6d542416_658d_11ec_90dc_0242ac1c0002row22_col1\" class=\"data row22 col1\" >Camembert</td>\n",
              "            </tr>\n",
              "            <tr>\n",
              "                        <th id=\"T_6d542416_658d_11ec_90dc_0242ac1c0002level0_row23\" class=\"row_heading level0 row23\" >23</th>\n",
              "                        <td id=\"T_6d542416_658d_11ec_90dc_0242ac1c0002row23_col0\" class=\"data row23 col0\" >2</td>\n",
              "                        <td id=\"T_6d542416_658d_11ec_90dc_0242ac1c0002row23_col1\" class=\"data row23 col1\" >Pyrenees</td>\n",
              "            </tr>\n",
              "            <tr>\n",
              "                        <th id=\"T_6d542416_658d_11ec_90dc_0242ac1c0002level0_row24\" class=\"row_heading level0 row24\" >24</th>\n",
              "                        <td id=\"T_6d542416_658d_11ec_90dc_0242ac1c0002row24_col0\" class=\"data row24 col0\" >2</td>\n",
              "                        <td id=\"T_6d542416_658d_11ec_90dc_0242ac1c0002row24_col1\" class=\"data row24 col1\" >Reblochon</td>\n",
              "            </tr>\n",
              "            <tr>\n",
              "                        <th id=\"T_6d542416_658d_11ec_90dc_0242ac1c0002level0_row25\" class=\"row_heading level0 row25\" >25</th>\n",
              "                        <td id=\"T_6d542416_658d_11ec_90dc_0242ac1c0002row25_col0\" class=\"data row25 col0\" >1</td>\n",
              "                        <td id=\"T_6d542416_658d_11ec_90dc_0242ac1c0002row25_col1\" class=\"data row25 col1\" >Rocquefort</td>\n",
              "            </tr>\n",
              "            <tr>\n",
              "                        <th id=\"T_6d542416_658d_11ec_90dc_0242ac1c0002level0_row26\" class=\"row_heading level0 row26\" >26</th>\n",
              "                        <td id=\"T_6d542416_658d_11ec_90dc_0242ac1c0002row26_col0\" class=\"data row26 col0\" >1</td>\n",
              "                        <td id=\"T_6d542416_658d_11ec_90dc_0242ac1c0002row26_col1\" class=\"data row26 col1\" >Bleu</td>\n",
              "            </tr>\n",
              "            <tr>\n",
              "                        <th id=\"T_6d542416_658d_11ec_90dc_0242ac1c0002level0_row27\" class=\"row_heading level0 row27\" >27</th>\n",
              "                        <td id=\"T_6d542416_658d_11ec_90dc_0242ac1c0002row27_col0\" class=\"data row27 col0\" >2</td>\n",
              "                        <td id=\"T_6d542416_658d_11ec_90dc_0242ac1c0002row27_col1\" class=\"data row27 col1\" >Babybel</td>\n",
              "            </tr>\n",
              "            <tr>\n",
              "                        <th id=\"T_6d542416_658d_11ec_90dc_0242ac1c0002level0_row28\" class=\"row_heading level0 row28\" >28</th>\n",
              "                        <td id=\"T_6d542416_658d_11ec_90dc_0242ac1c0002row28_col0\" class=\"data row28 col0\" >1</td>\n",
              "                        <td id=\"T_6d542416_658d_11ec_90dc_0242ac1c0002row28_col1\" class=\"data row28 col1\" >Fr.fondu.45</td>\n",
              "            </tr>\n",
              "    </tbody></table>"
            ],
            "text/plain": [
              "<pandas.io.formats.style.Styler at 0x7f6f46649210>"
            ]
          },
          "metadata": {},
          "execution_count": 32
        }
      ]
    },
    {
      "cell_type": "code",
      "source": [
        "pd.crosstab(groupes_cah,aggClustering.labels_)"
      ],
      "metadata": {
        "colab": {
          "base_uri": "https://localhost:8080/",
          "height": 206
        },
        "id": "VOx5BVnU9FnJ",
        "outputId": "892ca27d-a708-4c0f-e4ff-43b89e491f3f"
      },
      "execution_count": null,
      "outputs": [
        {
          "output_type": "execute_result",
          "data": {
            "text/html": [
              "\n",
              "  <div id=\"df-ac6ac746-eedb-4715-b714-8d1cd3f969cb\">\n",
              "    <div class=\"colab-df-container\">\n",
              "      <div>\n",
              "<style scoped>\n",
              "    .dataframe tbody tr th:only-of-type {\n",
              "        vertical-align: middle;\n",
              "    }\n",
              "\n",
              "    .dataframe tbody tr th {\n",
              "        vertical-align: top;\n",
              "    }\n",
              "\n",
              "    .dataframe thead th {\n",
              "        text-align: right;\n",
              "    }\n",
              "</style>\n",
              "<table border=\"1\" class=\"dataframe\">\n",
              "  <thead>\n",
              "    <tr style=\"text-align: right;\">\n",
              "      <th>col_0</th>\n",
              "      <th>0</th>\n",
              "      <th>1</th>\n",
              "      <th>2</th>\n",
              "      <th>3</th>\n",
              "    </tr>\n",
              "    <tr>\n",
              "      <th>row_0</th>\n",
              "      <th></th>\n",
              "      <th></th>\n",
              "      <th></th>\n",
              "      <th></th>\n",
              "    </tr>\n",
              "  </thead>\n",
              "  <tbody>\n",
              "    <tr>\n",
              "      <th>1</th>\n",
              "      <td>0</td>\n",
              "      <td>0</td>\n",
              "      <td>0</td>\n",
              "      <td>4</td>\n",
              "    </tr>\n",
              "    <tr>\n",
              "      <th>2</th>\n",
              "      <td>9</td>\n",
              "      <td>0</td>\n",
              "      <td>0</td>\n",
              "      <td>0</td>\n",
              "    </tr>\n",
              "    <tr>\n",
              "      <th>3</th>\n",
              "      <td>0</td>\n",
              "      <td>7</td>\n",
              "      <td>0</td>\n",
              "      <td>0</td>\n",
              "    </tr>\n",
              "    <tr>\n",
              "      <th>4</th>\n",
              "      <td>0</td>\n",
              "      <td>0</td>\n",
              "      <td>9</td>\n",
              "      <td>0</td>\n",
              "    </tr>\n",
              "  </tbody>\n",
              "</table>\n",
              "</div>\n",
              "      <button class=\"colab-df-convert\" onclick=\"convertToInteractive('df-ac6ac746-eedb-4715-b714-8d1cd3f969cb')\"\n",
              "              title=\"Convert this dataframe to an interactive table.\"\n",
              "              style=\"display:none;\">\n",
              "        \n",
              "  <svg xmlns=\"http://www.w3.org/2000/svg\" height=\"24px\"viewBox=\"0 0 24 24\"\n",
              "       width=\"24px\">\n",
              "    <path d=\"M0 0h24v24H0V0z\" fill=\"none\"/>\n",
              "    <path d=\"M18.56 5.44l.94 2.06.94-2.06 2.06-.94-2.06-.94-.94-2.06-.94 2.06-2.06.94zm-11 1L8.5 8.5l.94-2.06 2.06-.94-2.06-.94L8.5 2.5l-.94 2.06-2.06.94zm10 10l.94 2.06.94-2.06 2.06-.94-2.06-.94-.94-2.06-.94 2.06-2.06.94z\"/><path d=\"M17.41 7.96l-1.37-1.37c-.4-.4-.92-.59-1.43-.59-.52 0-1.04.2-1.43.59L10.3 9.45l-7.72 7.72c-.78.78-.78 2.05 0 2.83L4 21.41c.39.39.9.59 1.41.59.51 0 1.02-.2 1.41-.59l7.78-7.78 2.81-2.81c.8-.78.8-2.07 0-2.86zM5.41 20L4 18.59l7.72-7.72 1.47 1.35L5.41 20z\"/>\n",
              "  </svg>\n",
              "      </button>\n",
              "      \n",
              "  <style>\n",
              "    .colab-df-container {\n",
              "      display:flex;\n",
              "      flex-wrap:wrap;\n",
              "      gap: 12px;\n",
              "    }\n",
              "\n",
              "    .colab-df-convert {\n",
              "      background-color: #E8F0FE;\n",
              "      border: none;\n",
              "      border-radius: 50%;\n",
              "      cursor: pointer;\n",
              "      display: none;\n",
              "      fill: #1967D2;\n",
              "      height: 32px;\n",
              "      padding: 0 0 0 0;\n",
              "      width: 32px;\n",
              "    }\n",
              "\n",
              "    .colab-df-convert:hover {\n",
              "      background-color: #E2EBFA;\n",
              "      box-shadow: 0px 1px 2px rgba(60, 64, 67, 0.3), 0px 1px 3px 1px rgba(60, 64, 67, 0.15);\n",
              "      fill: #174EA6;\n",
              "    }\n",
              "\n",
              "    [theme=dark] .colab-df-convert {\n",
              "      background-color: #3B4455;\n",
              "      fill: #D2E3FC;\n",
              "    }\n",
              "\n",
              "    [theme=dark] .colab-df-convert:hover {\n",
              "      background-color: #434B5C;\n",
              "      box-shadow: 0px 1px 3px 1px rgba(0, 0, 0, 0.15);\n",
              "      filter: drop-shadow(0px 1px 2px rgba(0, 0, 0, 0.3));\n",
              "      fill: #FFFFFF;\n",
              "    }\n",
              "  </style>\n",
              "\n",
              "      <script>\n",
              "        const buttonEl =\n",
              "          document.querySelector('#df-ac6ac746-eedb-4715-b714-8d1cd3f969cb button.colab-df-convert');\n",
              "        buttonEl.style.display =\n",
              "          google.colab.kernel.accessAllowed ? 'block' : 'none';\n",
              "\n",
              "        async function convertToInteractive(key) {\n",
              "          const element = document.querySelector('#df-ac6ac746-eedb-4715-b714-8d1cd3f969cb');\n",
              "          const dataTable =\n",
              "            await google.colab.kernel.invokeFunction('convertToInteractive',\n",
              "                                                     [key], {});\n",
              "          if (!dataTable) return;\n",
              "\n",
              "          const docLinkHtml = 'Like what you see? Visit the ' +\n",
              "            '<a target=\"_blank\" href=https://colab.research.google.com/notebooks/data_table.ipynb>data table notebook</a>'\n",
              "            + ' to learn more about interactive tables.';\n",
              "          element.innerHTML = '';\n",
              "          dataTable['output_type'] = 'display_data';\n",
              "          await google.colab.output.renderOutput(dataTable, element);\n",
              "          const docLink = document.createElement('div');\n",
              "          docLink.innerHTML = docLinkHtml;\n",
              "          element.appendChild(docLink);\n",
              "        }\n",
              "      </script>\n",
              "    </div>\n",
              "  </div>\n",
              "  "
            ],
            "text/plain": [
              "col_0  0  1  2  3\n",
              "row_0            \n",
              "1      0  0  0  4\n",
              "2      9  0  0  0\n",
              "3      0  7  0  0\n",
              "4      0  0  9  0"
            ]
          },
          "metadata": {},
          "execution_count": 33
        }
      ]
    },
    {
      "cell_type": "code",
      "source": [
        "#il y a certes des correspondances dans les clusters du CAH de scikit learn et de scipy"
      ],
      "metadata": {
        "id": "R4JPJbIv9J-X"
      },
      "execution_count": null,
      "outputs": []
    },
    {
      "cell_type": "code",
      "source": [],
      "metadata": {
        "id": "-pR3hv6t9ic7"
      },
      "execution_count": null,
      "outputs": []
    },
    {
      "cell_type": "markdown",
      "source": [
        "##Interprétation des classes avec PCA"
      ],
      "metadata": {
        "id": "Kz_P2lhJ9mog"
      }
    },
    {
      "cell_type": "code",
      "source": [
        "\n",
        "acp= PCA(n_components =2).fit_transform(fromage)\n",
        "for couleur,k in zip(['red','blue','lawngreen', 'aqua'],[0,1,2,3]):\n",
        "    plt.scatter(acp[km.labels_==k,0],acp[km.labels_==k,1],c=couleur)\n",
        "plt.show()"
      ],
      "metadata": {
        "colab": {
          "base_uri": "https://localhost:8080/",
          "height": 265
        },
        "id": "LG0bpA4j9owa",
        "outputId": "8e463435-90ef-4e35-96d0-b8330946e95f"
      },
      "execution_count": null,
      "outputs": [
        {
          "output_type": "display_data",
          "data": {
            "image/png": "[encoded data removed]",
            "text/plain": [
              "<Figure size 432x288 with 1 Axes>"
            ]
          },
          "metadata": {
            "needs_background": "light"
          }
        }
      ]
    },
    {
      "cell_type": "code",
      "source": [
        "#on trouve un cluster bien éloigné qui s'agit de celui des fromages frais (en bleu électrique).\n",
        "#Ceci s'explique par une grande distinction entre les valeurs nutritionnelles de ces fromages et celles des autres types."
      ],
      "metadata": {
        "id": "tbRwBFBu9rto"
      },
      "execution_count": null,
      "outputs": []
    },
    {
      "cell_type": "code",
      "source": [],
      "metadata": {
        "id": "txYXFp9b_DZp"
      },
      "execution_count": null,
      "outputs": []
    },
    {
      "cell_type": "code",
      "source": [],
      "metadata": {
        "id": "Df-CzT_K_KQv"
      },
      "execution_count": null,
      "outputs": []
    },
    {
      "cell_type": "markdown",
      "source": [
        "##Divisive Clustering"
      ],
      "metadata": {
        "id": "deZ5NzTV_NXX"
      }
    },
    {
      "cell_type": "code",
      "source": [
        "aggclus = cluster.AgglomerativeClustering(n_clusters = 4)\n",
        "aggclus.fit(fromage)\n",
        "idk = np.argsort(aggclus.labels_)\n",
        "print(pd.DataFrame(fromage.index[idk],aggclus.labels_[idk]))"
      ],
      "metadata": {
        "colab": {
          "base_uri": "https://localhost:8080/"
        },
        "id": "0vrsmwQH_N_9",
        "outputId": "7f0f46a7-75ad-477b-e2c9-e5077ba34324"
      },
      "execution_count": null,
      "outputs": [
        {
          "output_type": "stream",
          "name": "stdout",
          "text": [
            "             Fromages\n",
            "0         SaintPaulin\n",
            "0            Beaufort\n",
            "0            Parmesan\n",
            "0              Cantal\n",
            "0             Cheddar\n",
            "0               Comte\n",
            "0            Vacherin\n",
            "0                Edam\n",
            "0            Emmental\n",
            "1         CarredelEst\n",
            "1          Rocquefort\n",
            "1             Morbier\n",
            "1           Maroilles\n",
            "1         Fr.fondu.45\n",
            "1           Camembert\n",
            "1                Bleu\n",
            "2         Coulomniers\n",
            "2            Chaource\n",
            "2           Chabichou\n",
            "2         PontlEveque\n",
            "2            Pyrenees\n",
            "2           Reblochon\n",
            "2             Babybel\n",
            "2                Tome\n",
            "2  Fr.chevrepatemolle\n",
            "3      Fr.frais20nat.\n",
            "3      Fr.frais40nat.\n",
            "3       Petitsuisse40\n",
            "3  Yaourtlaitent.nat.\n"
          ]
        }
      ]
    },
    {
      "cell_type": "code",
      "source": [],
      "metadata": {
        "id": "eNTTAatuAAOC"
      },
      "execution_count": null,
      "outputs": []
    }
  ]
}